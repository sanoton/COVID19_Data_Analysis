{
 "cells": [
  {
   "cell_type": "markdown",
   "metadata": {},
   "source": [
    "# COGS 108 - Final Project Proposal"
   ]
  },
  {
   "cell_type": "markdown",
   "metadata": {},
   "source": [
    "# Names\n",
    "\n",
    "* Li-An Wu\n",
    "* Ray Huang\n",
    "* Tony Lin\n",
    "* Steven Kan\n"
   ]
  },
  {
   "cell_type": "markdown",
   "metadata": {},
   "source": [
    "# Research Question"
   ]
  },
  {
   "cell_type": "markdown",
   "metadata": {},
   "source": [
    "Does the GDP or poverty rate of a country affect the death/infected/recovered rate from COVID-19?"
   ]
  },
  {
   "cell_type": "markdown",
   "metadata": {},
   "source": [
    "## Background and Prior Work"
   ]
  },
  {
   "cell_type": "markdown",
   "metadata": {},
   "source": [
    "In December 2019, COVID-19 was first discovered in Wuhan, China. It is a highly contagious disease that causes severe complications to peoples’ respiratory systems. Its contagion has been unprecedentedly powerful and since its first appearance, more than a hundred million people have been infected worldwide, resulting in more than 2 million deaths. Many peoples’ lives have thus been affected by the pandemic. In fact, many other lethal viruses have also appeared in our history,  such as SARS virus, Ebola virus, and HIV virus etc… As we researched these past diseases, we found an interesting correlation- most of them appeared to be pervasive in areas of developing countries like Africa and Asia. With COVID-19 however, advanced countries like the United States, UK, France and many more seem to be the most severely affected areas in the world. Thus, we are interested to see if there is a relationship between the severity of COVID-19 and a country’s wealth level.\n",
    "\n",
    "As we searched through the internet for similar projects, we have found a useful COVID-19 project from “Our World in Data”. This project has provided us with a visualized graph with death per millions people of each country put side by side. From this project, we found that many advanced countries such as Belgium, UK, and Germany have the highest death rate and developing countries like Tanzania have significantly lower death rates. \n",
    "\n",
    "In addition, we have also found another research by the british media “mail Online”, it points out that poor countries' death rate of covid may be significantly biased due to multiple reasons. For example, COVID-19 usually causes death in older people, but in poor countries, life expectancy simply just isn’t that long. Moreover, there are also multiple other diseases plaguing these countries, causing deaths and thus impairing the rate of death by COVID-19.\n",
    "\n",
    "Reference:\n",
    "* https://ourworldindata.org/covid-19-project-charts\n",
    "* https://www.dailymail.co.uk/news/article-8697783/Are-people-Africa-protected-Covid-19-POVERTY.html "
   ]
  },
  {
   "cell_type": "markdown",
   "metadata": {},
   "source": [
    "# Hypothesis\n"
   ]
  },
  {
   "cell_type": "markdown",
   "metadata": {},
   "source": [
    "Since a country’s medical and technological development is highly related to its financial power, we predict that countries with higher GDP and lower poverty rates will have a lower death and infection rate on COVID-19. If a country has a stronger health system and a more stable economy, we think that it has a higher chance of preventing the spread and severity of COVID-19."
   ]
  },
  {
   "cell_type": "markdown",
   "metadata": {},
   "source": [
    "# Data"
   ]
  },
  {
   "cell_type": "markdown",
   "metadata": {},
   "source": [
    "Ideal dataset attributes:\n",
    "Variables: GDP, Poverty rate, COVID-19 death population, COVID-19 infected population, COVID-19 recovered population, total population, total death per 1 million people, total infection per 1 million people\n",
    "Observations: Around 200 countries (Based on worldometer.com statistics)\n",
    "Data collection: government-authenticated website, health organization website, trusted global economic websites, global statistical website, global meters, COVID-19 related meters/data. \n",
    "Data Organization: we will collect and store the data in csv files and combine them to maximize our analytical flexibility. \n"
   ]
  },
  {
   "cell_type": "markdown",
   "metadata": {},
   "source": [
    "# Ethics & Privacy"
   ]
  },
  {
   "cell_type": "markdown",
   "metadata": {},
   "source": [
    "In this project, we plan to fetch our data from official organizations such as the World Health Organization or some country’s government databases. In theory, we do not expect any bias and privacy issues to rise from the data. However, there are several potential problems that are extremely likely to exist. Many countries' governments may have chosen to intentionally provide modified infection rates and death rates for political and economic purposes. There are also some poorer countries that cannot afford to have wide-spread covid tests for their people. These issues may cause the data for our project to be inaccurate. To deal with the issue, we would try to specifically target on data of the advanced or western countries, which have similar political policies and a guaranteed level of trust. We would also include those untrustworthy countries data but give another analysis on it and specifically comment it.\n"
   ]
  },
  {
   "cell_type": "markdown",
   "metadata": {},
   "source": [
    "# Team Expectations "
   ]
  },
  {
   "cell_type": "markdown",
   "metadata": {},
   "source": [
    "* Meet at least once a week\n",
    "* Cooperate on project tasks\n",
    "* Communication via zoom or chat\n",
    "* Check messages often\n",
    "* Be kind and respectful to each other\n"
   ]
  },
  {
   "cell_type": "markdown",
   "metadata": {},
   "source": [
    "# Project Timeline Proposal"
   ]
  },
  {
   "cell_type": "markdown",
   "metadata": {},
   "source": [
    "| Meeting Date  | Meeting Time (PST) | Completed Before Meeting  | Discuss at Meeting |\n",
    "|---|---|---|---|\n",
    "| 1/20  |  10 AM | Read & Think about COGS 108 expectations; brainstorm topics/questions  | Determine best form of communication; Discuss and decide on final project topic; discuss hypothesis; begin background research | \n",
    "| 1/26  |  10 AM |  Do background research on topic | Discuss ideal dataset(s) and ethics; draft project proposal | \n",
    "| 1/29  | 10 AM | Edit, finalize, and submit proposal; Search for datasets  | Discuss Wrangling and possible analytical approaches; Assign group members to lead each specific part   |\n",
    "| 2/12  | 10 AM | Checkpoint 1: Data | Check the requirements and submit the files before the deadline |\n",
    "| 2/14  | 6 PM | Import & Wrangle Data; EDA | Review/Edit wrangling/EDA; Discuss Analysis Plan   |\n",
    "| 2/23  | 12 PM | Finalize wrangling/EDA; Begin Analysis | Discuss/edit Analysis; Complete project check-in |\n",
    "| 2/26  | 11:59 PM | Checkpoint 2: EDA | Check the requirements and submit the files before the deadline |\n",
    "| 3/13  | 12 PM | Complete analysis; Draft results/conclusion/discussion | Discuss/edit full project |\n",
    "| 3/19  | Before 11:59 PM  | NA | Turn in Final Project & Group Project Surveys |"
   ]
  }
 ],
 "metadata": {
  "kernelspec": {
   "display_name": "Python 3",
   "language": "python",
   "name": "python3"
  },
  "language_info": {
   "codemirror_mode": {
    "name": "ipython",
    "version": 3
   },
   "file_extension": ".py",
   "mimetype": "text/x-python",
   "name": "python",
   "nbconvert_exporter": "python",
   "pygments_lexer": "ipython3",
   "version": "3.7.4"
  }
 },
 "nbformat": 4,
 "nbformat_minor": 2
}
