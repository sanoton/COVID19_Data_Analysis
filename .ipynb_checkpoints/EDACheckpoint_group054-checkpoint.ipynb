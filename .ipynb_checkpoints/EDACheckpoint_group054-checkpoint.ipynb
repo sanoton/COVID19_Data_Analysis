{
 "cells": [
  {
   "cell_type": "markdown",
   "metadata": {},
   "source": [
    "# COGS 108 - EDA Checkpoint"
   ]
  },
  {
   "cell_type": "markdown",
   "metadata": {},
   "source": [
    "# Names\n",
    "\n",
    "- Li-An Wu\n",
    "- Tony Lin\n",
    "- Ray Huang\n",
    "- Steven Kan"
   ]
  },
  {
   "cell_type": "markdown",
   "metadata": {},
   "source": [
    "<a id='research_question'></a>\n",
    "# Research Question"
   ]
  },
  {
   "cell_type": "markdown",
   "metadata": {},
   "source": [
    "Does the GDP or poverty rate of a country affect the death/infected/recovered rate from COVID-19?"
   ]
  },
  {
   "cell_type": "markdown",
   "metadata": {},
   "source": [
    "# Setup"
   ]
  },
  {
   "cell_type": "code",
   "execution_count": 1,
   "metadata": {},
   "outputs": [],
   "source": [
    "## YOUR CODE HERE\n",
    "import numpy as np\n",
    "import pandas as pd\n",
    "import seaborn as sns\n",
    "import matplotlib.pyplot as plt\n",
    "import matplotlib as mpl\n",
    "import scipy\n",
    "\n",
    "import patsy\n",
    "import statsmodels.api as sm\n",
    "import scipy.stats as stats\n",
    "from scipy.stats import ttest_ind, chisquare, normaltest"
   ]
  },
  {
   "cell_type": "markdown",
   "metadata": {},
   "source": [
    "# Data Cleaning"
   ]
  },
  {
   "cell_type": "markdown",
   "metadata": {},
   "source": [
    "Describe your data cleaning steps here."
   ]
  },
  {
   "cell_type": "markdown",
   "metadata": {},
   "source": [
    "## YOUR CODE HERE\n",
    "## FEEL FREE TO ADD MULTIPLE CELLS PER SECTION\n",
    "\n",
    "Describe your data cleaning steps here.\n",
    "\n",
    "1. drop all non relevent (not needed) columns\n",
    "2. remove outliers\n",
    "\n",
    "\n",
    "\n"
   ]
  },
  {
   "cell_type": "code",
   "execution_count": 2,
   "metadata": {},
   "outputs": [],
   "source": [
    "## YOUR CODE HERE\n",
    "## FEEL FREE TO ADD MULTIPLE CELLS PER SECTION\n",
    "covid_death = pd.read_csv(\"worldometer_coronavirus.csv\")\n",
    "GDP_country = pd.read_csv('WEO_Data.csv', encoding = \"ISO-8859-1\")\n",
    "poverty = pd.read_csv(\"csvData.csv\")"
   ]
  },
  {
   "cell_type": "code",
   "execution_count": 3,
   "metadata": {},
   "outputs": [],
   "source": [
    "#covid_death.describe(include='all')"
   ]
  },
  {
   "cell_type": "code",
   "execution_count": 4,
   "metadata": {},
   "outputs": [
    {
     "data": {
      "text/html": [
       "<div>\n",
       "<style scoped>\n",
       "    .dataframe tbody tr th:only-of-type {\n",
       "        vertical-align: middle;\n",
       "    }\n",
       "\n",
       "    .dataframe tbody tr th {\n",
       "        vertical-align: top;\n",
       "    }\n",
       "\n",
       "    .dataframe thead th {\n",
       "        text-align: right;\n",
       "    }\n",
       "</style>\n",
       "<table border=\"1\" class=\"dataframe\">\n",
       "  <thead>\n",
       "    <tr style=\"text-align: right;\">\n",
       "      <th></th>\n",
       "      <th>Total Cases</th>\n",
       "      <th>Total Deaths</th>\n",
       "      <th>Total Recovered</th>\n",
       "      <th>Serious/Critical</th>\n",
       "      <th>TotCases/ 1M pop</th>\n",
       "      <th>Deaths/1M pop</th>\n",
       "      <th>Total Tests</th>\n",
       "      <th>Tests/1M pop</th>\n",
       "      <th>Population</th>\n",
       "    </tr>\n",
       "  </thead>\n",
       "  <tbody>\n",
       "    <tr>\n",
       "      <td>count</td>\n",
       "      <td>2.220000e+02</td>\n",
       "      <td>2.040000e+02</td>\n",
       "      <td>2.190000e+02</td>\n",
       "      <td>151.000000</td>\n",
       "      <td>221.000000</td>\n",
       "      <td>203.000000</td>\n",
       "      <td>2.030000e+02</td>\n",
       "      <td>2.030000e+02</td>\n",
       "      <td>2.190000e+02</td>\n",
       "    </tr>\n",
       "    <tr>\n",
       "      <td>mean</td>\n",
       "      <td>1.465086e+06</td>\n",
       "      <td>3.502314e+04</td>\n",
       "      <td>1.103173e+06</td>\n",
       "      <td>1987.450331</td>\n",
       "      <td>21311.257014</td>\n",
       "      <td>398.817241</td>\n",
       "      <td>7.494558e+06</td>\n",
       "      <td>4.121701e+05</td>\n",
       "      <td>3.564332e+07</td>\n",
       "    </tr>\n",
       "    <tr>\n",
       "      <td>std</td>\n",
       "      <td>1.045056e+07</td>\n",
       "      <td>2.380688e+05</td>\n",
       "      <td>7.809048e+06</td>\n",
       "      <td>11585.278184</td>\n",
       "      <td>25969.667967</td>\n",
       "      <td>508.146946</td>\n",
       "      <td>3.107422e+07</td>\n",
       "      <td>6.904285e+05</td>\n",
       "      <td>1.401806e+08</td>\n",
       "    </tr>\n",
       "    <tr>\n",
       "      <td>min</td>\n",
       "      <td>1.000000e+00</td>\n",
       "      <td>1.000000e+00</td>\n",
       "      <td>1.000000e+00</td>\n",
       "      <td>1.000000</td>\n",
       "      <td>3.000000</td>\n",
       "      <td>0.200000</td>\n",
       "      <td>4.700000e+02</td>\n",
       "      <td>5.760000e+02</td>\n",
       "      <td>8.020000e+02</td>\n",
       "    </tr>\n",
       "    <tr>\n",
       "      <td>25%</td>\n",
       "      <td>3.276500e+03</td>\n",
       "      <td>7.975000e+01</td>\n",
       "      <td>2.249500e+03</td>\n",
       "      <td>9.000000</td>\n",
       "      <td>1298.000000</td>\n",
       "      <td>27.500000</td>\n",
       "      <td>9.255550e+04</td>\n",
       "      <td>4.579650e+04</td>\n",
       "      <td>6.434905e+05</td>\n",
       "    </tr>\n",
       "    <tr>\n",
       "      <td>50%</td>\n",
       "      <td>2.963150e+04</td>\n",
       "      <td>6.100000e+02</td>\n",
       "      <td>2.021000e+04</td>\n",
       "      <td>68.000000</td>\n",
       "      <td>10586.000000</td>\n",
       "      <td>134.000000</td>\n",
       "      <td>6.627070e+05</td>\n",
       "      <td>1.844170e+05</td>\n",
       "      <td>6.590113e+06</td>\n",
       "    </tr>\n",
       "    <tr>\n",
       "      <td>75%</td>\n",
       "      <td>2.259425e+05</td>\n",
       "      <td>4.697250e+03</td>\n",
       "      <td>1.683155e+05</td>\n",
       "      <td>318.000000</td>\n",
       "      <td>36038.000000</td>\n",
       "      <td>580.000000</td>\n",
       "      <td>3.303684e+06</td>\n",
       "      <td>4.661380e+05</td>\n",
       "      <td>2.429004e+07</td>\n",
       "    </tr>\n",
       "    <tr>\n",
       "      <td>max</td>\n",
       "      <td>1.084166e+08</td>\n",
       "      <td>2.381578e+06</td>\n",
       "      <td>8.060505e+07</td>\n",
       "      <td>100035.000000</td>\n",
       "      <td>134353.000000</td>\n",
       "      <td>2464.000000</td>\n",
       "      <td>3.304247e+08</td>\n",
       "      <td>5.051032e+06</td>\n",
       "      <td>1.439324e+09</td>\n",
       "    </tr>\n",
       "  </tbody>\n",
       "</table>\n",
       "</div>"
      ],
      "text/plain": [
       "        Total Cases  Total Deaths  Total Recovered  Serious/Critical  \\\n",
       "count  2.220000e+02  2.040000e+02     2.190000e+02        151.000000   \n",
       "mean   1.465086e+06  3.502314e+04     1.103173e+06       1987.450331   \n",
       "std    1.045056e+07  2.380688e+05     7.809048e+06      11585.278184   \n",
       "min    1.000000e+00  1.000000e+00     1.000000e+00          1.000000   \n",
       "25%    3.276500e+03  7.975000e+01     2.249500e+03          9.000000   \n",
       "50%    2.963150e+04  6.100000e+02     2.021000e+04         68.000000   \n",
       "75%    2.259425e+05  4.697250e+03     1.683155e+05        318.000000   \n",
       "max    1.084166e+08  2.381578e+06     8.060505e+07     100035.000000   \n",
       "\n",
       "       TotCases/ 1M pop  Deaths/1M pop   Total Tests  Tests/1M pop  \\\n",
       "count        221.000000     203.000000  2.030000e+02  2.030000e+02   \n",
       "mean       21311.257014     398.817241  7.494558e+06  4.121701e+05   \n",
       "std        25969.667967     508.146946  3.107422e+07  6.904285e+05   \n",
       "min            3.000000       0.200000  4.700000e+02  5.760000e+02   \n",
       "25%         1298.000000      27.500000  9.255550e+04  4.579650e+04   \n",
       "50%        10586.000000     134.000000  6.627070e+05  1.844170e+05   \n",
       "75%        36038.000000     580.000000  3.303684e+06  4.661380e+05   \n",
       "max       134353.000000    2464.000000  3.304247e+08  5.051032e+06   \n",
       "\n",
       "         Population  \n",
       "count  2.190000e+02  \n",
       "mean   3.564332e+07  \n",
       "std    1.401806e+08  \n",
       "min    8.020000e+02  \n",
       "25%    6.434905e+05  \n",
       "50%    6.590113e+06  \n",
       "75%    2.429004e+07  \n",
       "max    1.439324e+09  "
      ]
     },
     "execution_count": 4,
     "metadata": {},
     "output_type": "execute_result"
    }
   ],
   "source": [
    "#Removing commas from numbers\n",
    "covid_death = covid_death.replace(',','', regex=True)\n",
    "# Convert string to integer\n",
    "covid_death['Total Cases'] = pd.to_numeric(covid_death['Total Cases'])\n",
    "covid_death['Total Deaths'] = pd.to_numeric(covid_death['Total Deaths'])\n",
    "covid_death['Total Recovered'] = pd.to_numeric(covid_death['Total Recovered'])\n",
    "covid_death['Serious/Critical'] = pd.to_numeric(covid_death['Serious/Critical'])\n",
    "covid_death['TotCases/ 1M pop'] = pd.to_numeric(covid_death['TotCases/ 1M pop'])\n",
    "covid_death['Deaths/1M pop'] = pd.to_numeric(covid_death['Deaths/1M pop'])\n",
    "covid_death['Total Tests'] = pd.to_numeric(covid_death['Total Tests'])\n",
    "covid_death['Tests/1M pop'] = pd.to_numeric(covid_death['Tests/1M pop'])\n",
    "covid_death['Population'] = pd.to_numeric(covid_death['Population'])\n",
    "covid_death.describe()"
   ]
  },
  {
   "cell_type": "code",
   "execution_count": 5,
   "metadata": {},
   "outputs": [],
   "source": [
    "#Dropping Unused Columns.\n",
    "covid_death = covid_death.drop(columns=['New Cases', 'New Deaths', 'Active Cases', ])\n",
    "GDP_country = GDP_country.drop(columns=['Subject Descriptor', 'Country/Series-specific Notes', 'Estimates Start After'])\n",
    "#Adding units to GDP data to make information clear.\n",
    "GDP_country = GDP_country[GDP_country['Units'] == \"U.S. dollars\"]\n",
    "pd.set_option('display.max_rows', GDP_country.shape[0]+1)\n",
    "GDP_country = GDP_country.reset_index(drop=True)\n",
    "#GDP_country"
   ]
  },
  {
   "cell_type": "code",
   "execution_count": 6,
   "metadata": {},
   "outputs": [],
   "source": [
    "#Coverting strings to integers\n",
    "GDP_country = GDP_country.replace(',','', regex=True)\n",
    "GDP_country['2019'] = pd.to_numeric(GDP_country['2019'])\n",
    "GDP_country['2020'] = pd.to_numeric(GDP_country['2020'])\n",
    "#GDP_country.dtypes"
   ]
  },
  {
   "cell_type": "code",
   "execution_count": 7,
   "metadata": {
    "scrolled": true
   },
   "outputs": [
    {
     "data": {
      "text/html": [
       "<div>\n",
       "<style scoped>\n",
       "    .dataframe tbody tr th:only-of-type {\n",
       "        vertical-align: middle;\n",
       "    }\n",
       "\n",
       "    .dataframe tbody tr th {\n",
       "        vertical-align: top;\n",
       "    }\n",
       "\n",
       "    .dataframe thead th {\n",
       "        text-align: right;\n",
       "    }\n",
       "</style>\n",
       "<table border=\"1\" class=\"dataframe\">\n",
       "  <thead>\n",
       "    <tr style=\"text-align: right;\">\n",
       "      <th></th>\n",
       "      <th>country</th>\n",
       "      <th>povertyRate</th>\n",
       "      <th>pop2021</th>\n",
       "    </tr>\n",
       "  </thead>\n",
       "  <tbody>\n",
       "    <tr>\n",
       "      <td>0</td>\n",
       "      <td>Turkmenistan</td>\n",
       "      <td>0.2</td>\n",
       "      <td>6117.924</td>\n",
       "    </tr>\n",
       "    <tr>\n",
       "      <td>1</td>\n",
       "      <td>China</td>\n",
       "      <td>0.6</td>\n",
       "      <td>1444216.107</td>\n",
       "    </tr>\n",
       "    <tr>\n",
       "      <td>2</td>\n",
       "      <td>Ukraine</td>\n",
       "      <td>1.3</td>\n",
       "      <td>43466.819</td>\n",
       "    </tr>\n",
       "    <tr>\n",
       "      <td>3</td>\n",
       "      <td>Kazakhstan</td>\n",
       "      <td>2.5</td>\n",
       "      <td>18994.962</td>\n",
       "    </tr>\n",
       "    <tr>\n",
       "      <td>4</td>\n",
       "      <td>Sri Lanka</td>\n",
       "      <td>4.1</td>\n",
       "      <td>21497.310</td>\n",
       "    </tr>\n",
       "  </tbody>\n",
       "</table>\n",
       "</div>"
      ],
      "text/plain": [
       "        country  povertyRate      pop2021\n",
       "0  Turkmenistan          0.2     6117.924\n",
       "1         China          0.6  1444216.107\n",
       "2       Ukraine          1.3    43466.819\n",
       "3    Kazakhstan          2.5    18994.962\n",
       "4     Sri Lanka          4.1    21497.310"
      ]
     },
     "execution_count": 7,
     "metadata": {},
     "output_type": "execute_result"
    }
   ],
   "source": [
    "pd.set_option('display.max_rows', poverty.shape[0]+1)\n",
    "poverty.head()"
   ]
  },
  {
   "cell_type": "code",
   "execution_count": 8,
   "metadata": {},
   "outputs": [],
   "source": [
    "#Removing inconsistencies in naming of columns\n",
    "GDP_country = GDP_country.rename(columns={'country': 'Country'})\n",
    "GDP_countries = GDP_country['Country'].unique()\n",
    "GDP_countries.sort()\n",
    "\n",
    "covid_death_countries = covid_death['Country'].unique()\n",
    "covid_death_countries.sort()"
   ]
  },
  {
   "cell_type": "code",
   "execution_count": 9,
   "metadata": {},
   "outputs": [],
   "source": [
    "# GDP_countries - covid_death_countries\n",
    "#main_list1 = np.setdiff1d(GDP_countries,covid_death_countries)"
   ]
  },
  {
   "cell_type": "code",
   "execution_count": 10,
   "metadata": {},
   "outputs": [],
   "source": [
    "#main_list2 contains countries not including in GDP_countries \n",
    "# covid_death_countries  - GDP_countries \n",
    "#main_list2 = np.setdiff1d(covid_death_countries, GDP_countries)"
   ]
  },
  {
   "cell_type": "code",
   "execution_count": 11,
   "metadata": {},
   "outputs": [],
   "source": [
    "# Renaming the inconsistency in the country names\n",
    "GDP_country['Country'] = GDP_country['Country'].replace(['Brunei Darussalam'], 'Brunei')\n",
    "GDP_country['Country'] = GDP_country['Country'].replace(['Central African Republic'], 'CAR')\n",
    "GDP_country['Country'] = GDP_country['Country'].replace(['Czech Republic'], 'Czechia')\n",
    "GDP_country['Country'] = GDP_country['Country'].replace([\"Côte d\\'Ivoire\"], 'Ivory Coast')\n",
    "GDP_country['Country'] = GDP_country['Country'].replace(['Democratic Republic of the Congo'], 'DRC')\n",
    "GDP_country['Country'] = GDP_country['Country'].replace(['Hong Kong SAR'], 'Hong Kong')\n",
    "GDP_country['Country'] = GDP_country['Country'].replace(['Islamic Republic of Iran'], 'Iran')\n",
    "GDP_country['Country'] = GDP_country['Country'].replace(['Korea'], 'S. Korea')\n",
    "GDP_country['Country'] = GDP_country['Country'].replace(['Kyrgyz Republic'], 'Kyrgyzstan')\n",
    "GDP_country['Country'] = GDP_country['Country'].replace(['Lao P.D.R.'], 'Laos')\n",
    "GDP_country['Country'] = GDP_country['Country'].replace(['Macao SAR'], 'Macao')\n",
    "GDP_country['Country'] = GDP_country['Country'].replace(['Republic of Congo'], 'Congo')\n",
    "GDP_country['Country'] = GDP_country['Country'].replace(['Slovak Republic'], 'Slovakia')\n",
    "GDP_country['Country'] = GDP_country['Country'].replace(['St. Kitts and Nevis'], 'Saint Kitts and Nevis')\n",
    "GDP_country['Country'] = GDP_country['Country'].replace(['St. Lucia'], 'Saint Lucia')\n",
    "GDP_country['Country'] = GDP_country['Country'].replace(['St. Vincent and the Grenadines'], 'St. Vincent Grenadines')\n",
    "GDP_country['Country'] = GDP_country['Country'].replace(['São Tomé and Príncipe'], 'Sao Tome and Principe')\n",
    "GDP_country['Country'] = GDP_country['Country'].replace(['Taiwan Province of China'], 'Taiwan')\n",
    "GDP_country['Country'] = GDP_country['Country'].replace(['The Bahamas'], 'Bahamas')\n",
    "GDP_country['Country'] = GDP_country['Country'].replace(['The Gambia'], 'Gambia')\n",
    "GDP_country['Country'] = GDP_country['Country'].replace(['United Arab Emirates'], 'UAE')\n",
    "GDP_country['Country'] = GDP_country['Country'].replace(['United Kingdom'], 'UK')\n",
    "GDP_country['Country'] = GDP_country['Country'].replace(['United States'], 'USA')\n",
    "GDP_country['Country'] = GDP_country['Country'].replace(['West Bank and Gaza'], 'Palestine')"
   ]
  },
  {
   "cell_type": "code",
   "execution_count": 12,
   "metadata": {},
   "outputs": [],
   "source": [
    "#1. Match the corresponding countries \n",
    "combine = pd.merge(covid_death, GDP_country, on='Country')\n",
    "\n",
    "combine = combine.drop(columns = '2019')\n",
    "combine = combine.drop(columns = 'Serious/Critical')\n",
    "combine = combine.rename(columns={'2020': '2020 GDP'})\n",
    "\n",
    "combine['Recovery Percentage'] = combine['Total Recovered'] / combine['Total Cases']\n",
    "combine['GDP per Capita'] = combine['2020 GDP'] / combine['Population'] * 1e9"
   ]
  },
  {
   "cell_type": "markdown",
   "metadata": {},
   "source": [
    "# Data Analysis & Results (EDA)"
   ]
  },
  {
   "cell_type": "markdown",
   "metadata": {},
   "source": [
    "Carry out EDA on your dataset(s); Describe in this section"
   ]
  },
  {
   "cell_type": "code",
   "execution_count": 13,
   "metadata": {
    "scrolled": true
   },
   "outputs": [
    {
     "data": {
      "image/png": "[encoded data removed]",
      "text/plain": [
       "<Figure size 432x288 with 1 Axes>"
      ]
     },
     "metadata": {
      "needs_background": "light"
     },
     "output_type": "display_data"
    }
   ],
   "source": [
    "f2 = combine.hist(column = 'TotCases/ 1M pop')         "
   ]
  },
  {
   "cell_type": "markdown",
   "metadata": {},
   "source": [
    "We plotted a histogram of the total cases per 1 million population to visualize how this variable is distributed.\n",
    "\n",
    "The distribution for this variable doesn't seem to fit any of the common distributions, but the data was highly skewed towards the left.\n",
    "\n",
    "We observed that for many countries, the number of cases per 1 million people remained on the low end."
   ]
  },
  {
   "cell_type": "code",
   "execution_count": 14,
   "metadata": {
    "scrolled": false
   },
   "outputs": [
    {
     "data": {
      "text/plain": [
       "array([[<matplotlib.axes._subplots.AxesSubplot object at 0x1c193216d0>]],\n",
       "      dtype=object)"
      ]
     },
     "execution_count": 14,
     "metadata": {},
     "output_type": "execute_result"
    },
    {
     "data": {
      "image/png": "[encoded data removed]",
      "text/plain": [
       "<Figure size 432x288 with 1 Axes>"
      ]
     },
     "metadata": {
      "needs_background": "light"
     },
     "output_type": "display_data"
    }
   ],
   "source": [
    "combine.hist(column = 'GDP per Capita')"
   ]
  },
  {
   "cell_type": "markdown",
   "metadata": {},
   "source": [
    "We then plotted a histogram of the GDP per capita of all the countries. \n",
    "\n",
    "Again, the distribution for this variable doesn't seem to fit any of the common distributions, but the data was highly skewed towards the left. \n",
    "\n",
    "We observed that for the vast majority of countries, GDP per capita was low ( < 20000 USD per year)\n",
    "\n",
    "This prompted us to divide the countries based on their GDP per capita into two groups- developing and developed. \n",
    "\n",
    "Note that 20,000 USD per year is just an arbitrary sum that we collectively chose and is not a typical measure for whether a country is categorized as developed or developing. In this case though, countries whose citizens earn, on average, more than 20,000 USD per year is considered developed."
   ]
  },
  {
   "cell_type": "code",
   "execution_count": 15,
   "metadata": {},
   "outputs": [],
   "source": [
    "combine_developing = combine[combine['GDP per Capita'] < 20000]\n",
    "combine_developed = combine[combine['GDP per Capita'] >= 20000]"
   ]
  },
  {
   "cell_type": "code",
   "execution_count": 16,
   "metadata": {
    "scrolled": true
   },
   "outputs": [
    {
     "data": {
      "text/plain": [
       "array([[<matplotlib.axes._subplots.AxesSubplot object at 0x1c194a6f90>]],\n",
       "      dtype=object)"
      ]
     },
     "execution_count": 16,
     "metadata": {},
     "output_type": "execute_result"
    },
    {
     "data": {
      "image/png": "[encoded data removed]",
      "text/plain": [
       "<Figure size 432x288 with 1 Axes>"
      ]
     },
     "metadata": {
      "needs_background": "light"
     },
     "output_type": "display_data"
    }
   ],
   "source": [
    "combine_developing.hist(column = 'GDP per Capita')"
   ]
  },
  {
   "cell_type": "markdown",
   "metadata": {},
   "source": [
    "We then plotted a histogram of the GDP per capita of all the developing countries.\n",
    "\n",
    "Again, the distribution for the variables doesn't seem to fit any of the common distributions, but the data was highly skewed towards the left. \n",
    "\n",
    "We surprisingly observed that for the vast majority of developing countries, GDP per capita was much lower than we initially expected, (< 5,000 USD per year)"
   ]
  },
  {
   "cell_type": "code",
   "execution_count": 17,
   "metadata": {},
   "outputs": [
    {
     "data": {
      "text/plain": [
       "array([[<matplotlib.axes._subplots.AxesSubplot object at 0x1c194db110>]],\n",
       "      dtype=object)"
      ]
     },
     "execution_count": 17,
     "metadata": {},
     "output_type": "execute_result"
    },
    {
     "data": {
      "image/png": "[encoded data removed]",
      "text/plain": [
       "<Figure size 432x288 with 1 Axes>"
      ]
     },
     "metadata": {
      "needs_background": "light"
     },
     "output_type": "display_data"
    }
   ],
   "source": [
    "combine_developing.hist(column = 'Recovery Percentage')"
   ]
  },
  {
   "cell_type": "markdown",
   "metadata": {},
   "source": [
    "We then plotted a histogram of the percentage of recovered patients in the developing countries.\n",
    "\n",
    "The disitribution doesn't fit any of the common distributions, but the data was highly skewed towards the right.\n",
    "\n",
    "We observed that the recovery percentage is quite high for most developing countries, contrary to what we initially predicted."
   ]
  },
  {
   "cell_type": "code",
   "execution_count": 18,
   "metadata": {},
   "outputs": [
    {
     "data": {
      "text/plain": [
       "array([[<matplotlib.axes._subplots.AxesSubplot object at 0x1c1962f190>]],\n",
       "      dtype=object)"
      ]
     },
     "execution_count": 18,
     "metadata": {},
     "output_type": "execute_result"
    },
    {
     "data": {
      "image/png": "[encoded data removed]",
      "text/plain": [
       "<Figure size 432x288 with 1 Axes>"
      ]
     },
     "metadata": {
      "needs_background": "light"
     },
     "output_type": "display_data"
    }
   ],
   "source": [
    "combine_developed.hist(column = 'GDP per Capita')"
   ]
  },
  {
   "cell_type": "markdown",
   "metadata": {},
   "source": [
    "We then plotted a histogram of the GDP per capita of all the developed countries.\n",
    "\n",
    "Again, the distribution for the variables doesn't seem to fit any of the common distributions, but the data was skewed towards the left.\n",
    "\n",
    "We observed that there is a country with a super high GDP, upon investigating, this turned out to be a tax haven for the wealthy."
   ]
  },
  {
   "cell_type": "code",
   "execution_count": 19,
   "metadata": {},
   "outputs": [
    {
     "data": {
      "text/plain": [
       "array([[<matplotlib.axes._subplots.AxesSubplot object at 0x1c195a4b90>]],\n",
       "      dtype=object)"
      ]
     },
     "execution_count": 19,
     "metadata": {},
     "output_type": "execute_result"
    },
    {
     "data": {
      "image/png": "[encoded data removed]",
      "text/plain": [
       "<Figure size 432x288 with 1 Axes>"
      ]
     },
     "metadata": {
      "needs_background": "light"
     },
     "output_type": "display_data"
    }
   ],
   "source": [
    "combine_developed.hist(column = 'Recovery Percentage')"
   ]
  },
  {
   "cell_type": "markdown",
   "metadata": {},
   "source": [
    "We then plotted a histogram of the recovery percentage of all the developed countries.\n",
    "\n",
    "Again, the distribution for the variables doesn't seem to fit any of the common distributions, but the data was skewed towards the right.\n",
    "\n",
    "We observed that the recovery percentage is generally quite high, with 3 countries with super low recovery rates. Upon investigating, these countries had a low number of cases which hasn't concluded yet. "
   ]
  },
  {
   "cell_type": "code",
   "execution_count": 20,
   "metadata": {
    "scrolled": true
   },
   "outputs": [
    {
     "data": {
      "image/png": "[encoded data removed]",
      "text/plain": [
       "<Figure size 360x360 with 1 Axes>"
      ]
     },
     "metadata": {
      "needs_background": "light"
     },
     "output_type": "display_data"
    }
   ],
   "source": [
    "sns.lmplot(x='GDP per Capita', y='Recovery Percentage', data=combine, fit_reg=True);"
   ]
  },
  {
   "cell_type": "code",
   "execution_count": 21,
   "metadata": {},
   "outputs": [
    {
     "name": "stdout",
     "output_type": "stream",
     "text": [
      "                               OLS Regression Results                               \n",
      "====================================================================================\n",
      "Dep. Variable:     Q(\"Recovery Percentage\")   R-squared:                       0.006\n",
      "Model:                                  OLS   Adj. R-squared:                  0.000\n",
      "Method:                       Least Squares   F-statistic:                     1.044\n",
      "Date:                      Sat, 27 Feb 2021   Prob (F-statistic):              0.308\n",
      "Time:                              15:23:34   Log-Likelihood:                 47.443\n",
      "No. Observations:                       182   AIC:                            -90.89\n",
      "Df Residuals:                           180   BIC:                            -84.48\n",
      "Df Model:                                 1                                         \n",
      "Covariance Type:                  nonrobust                                         \n",
      "=======================================================================================\n",
      "                          coef    std err          t      P>|t|      [0.025      0.975]\n",
      "---------------------------------------------------------------------------------------\n",
      "Intercept               0.8390      0.017     49.152      0.000       0.805       0.873\n",
      "Q(\"GDP per Capita\")  -7.84e-07   7.67e-07     -1.022      0.308    -2.3e-06     7.3e-07\n",
      "==============================================================================\n",
      "Omnibus:                       98.927   Durbin-Watson:                   2.173\n",
      "Prob(Omnibus):                  0.000   Jarque-Bera (JB):              374.338\n",
      "Skew:                          -2.251   Prob(JB):                     5.17e-82\n",
      "Kurtosis:                       8.394   Cond. No.                     2.73e+04\n",
      "==============================================================================\n",
      "\n",
      "Warnings:\n",
      "[1] Standard Errors assume that the covariance matrix of the errors is correctly specified.\n",
      "[2] The condition number is large, 2.73e+04. This might indicate that there are\n",
      "strong multicollinearity or other numerical problems.\n"
     ]
    }
   ],
   "source": [
    "outcome_1, predictors_1 = patsy.dmatrices('Q(\"Recovery Percentage\") ~ Q(\"GDP per Capita\")', combine)\n",
    "mod_1 = sm.OLS(outcome_1, predictors_1)\n",
    "res_1 = mod_1.fit()\n",
    "print(res_1.summary())"
   ]
  },
  {
   "cell_type": "markdown",
   "metadata": {},
   "source": [
    "We plotted GDP per capita against recovery rate and made a linear model using OLS. Since R^2 is about 0.006, there is no sufficient evidence to support that the correlation between GDP Per Capita and Recovery Rate. This is most likely because most countries have GDP Per Capita lower than 20,000, so this graph is not normally distributed. "
   ]
  },
  {
   "cell_type": "code",
   "execution_count": 22,
   "metadata": {},
   "outputs": [
    {
     "data": {
      "image/png": "[encoded data removed]",
      "text/plain": [
       "<Figure size 360x360 with 1 Axes>"
      ]
     },
     "metadata": {
      "needs_background": "light"
     },
     "output_type": "display_data"
    }
   ],
   "source": [
    "sns.lmplot(x='GDP per Capita', y='Recovery Percentage', data=combine_developing, fit_reg=True);"
   ]
  },
  {
   "cell_type": "code",
   "execution_count": 23,
   "metadata": {},
   "outputs": [
    {
     "name": "stdout",
     "output_type": "stream",
     "text": [
      "                               OLS Regression Results                               \n",
      "====================================================================================\n",
      "Dep. Variable:     Q(\"Recovery Percentage\")   R-squared:                       0.001\n",
      "Model:                                  OLS   Adj. R-squared:                 -0.006\n",
      "Method:                       Least Squares   F-statistic:                    0.1535\n",
      "Date:                      Sat, 27 Feb 2021   Prob (F-statistic):              0.696\n",
      "Time:                              15:23:35   Log-Likelihood:                 50.811\n",
      "No. Observations:                       145   AIC:                            -97.62\n",
      "Df Residuals:                           143   BIC:                            -91.67\n",
      "Df Model:                                 1                                         \n",
      "Covariance Type:                  nonrobust                                         \n",
      "=======================================================================================\n",
      "                          coef    std err          t      P>|t|      [0.025      0.975]\n",
      "---------------------------------------------------------------------------------------\n",
      "Intercept               0.8263      0.021     40.155      0.000       0.786       0.867\n",
      "Q(\"GDP per Capita\")  1.123e-06   2.87e-06      0.392      0.696   -4.54e-06    6.79e-06\n",
      "==============================================================================\n",
      "Omnibus:                       81.611   Durbin-Watson:                   2.123\n",
      "Prob(Omnibus):                  0.000   Jarque-Bera (JB):              311.346\n",
      "Skew:                          -2.198   Prob(JB):                     2.47e-68\n",
      "Kurtosis:                       8.675   Cond. No.                     1.04e+04\n",
      "==============================================================================\n",
      "\n",
      "Warnings:\n",
      "[1] Standard Errors assume that the covariance matrix of the errors is correctly specified.\n",
      "[2] The condition number is large, 1.04e+04. This might indicate that there are\n",
      "strong multicollinearity or other numerical problems.\n"
     ]
    }
   ],
   "source": [
    "outcome_2, predictors_2 = patsy.dmatrices('Q(\"Recovery Percentage\") ~ Q(\"GDP per Capita\")', combine_developing)\n",
    "mod_2 = sm.OLS(outcome_2, predictors_2)\n",
    "res_2 = mod_2.fit()\n",
    "print(res_2.summary())"
   ]
  },
  {
   "cell_type": "markdown",
   "metadata": {},
   "source": [
    "Now we are focusing on the countries with less than 20,000 GDP Per Capita. We plotted GDP per capita against recovery rate and made a linear model using OLS. Since R^2 is about 0.001, there is no sufficient evidence to support that the correlation between GDP Per Capita and Recovery Rate for developing countries. "
   ]
  },
  {
   "cell_type": "code",
   "execution_count": 24,
   "metadata": {
    "scrolled": true
   },
   "outputs": [
    {
     "data": {
      "image/png": "[encoded data removed]",
      "text/plain": [
       "<Figure size 360x360 with 1 Axes>"
      ]
     },
     "metadata": {
      "needs_background": "light"
     },
     "output_type": "display_data"
    }
   ],
   "source": [
    "sns.lmplot(x='GDP per Capita', y='Recovery Percentage', data=combine_developed, fit_reg=True);"
   ]
  },
  {
   "cell_type": "code",
   "execution_count": 25,
   "metadata": {
    "scrolled": true
   },
   "outputs": [
    {
     "name": "stdout",
     "output_type": "stream",
     "text": [
      "                               OLS Regression Results                               \n",
      "====================================================================================\n",
      "Dep. Variable:     Q(\"Recovery Percentage\")   R-squared:                       0.038\n",
      "Model:                                  OLS   Adj. R-squared:                  0.010\n",
      "Method:                       Least Squares   F-statistic:                     1.376\n",
      "Date:                      Sat, 27 Feb 2021   Prob (F-statistic):              0.249\n",
      "Time:                              15:23:36   Log-Likelihood:                0.94799\n",
      "No. Observations:                        37   AIC:                             2.104\n",
      "Df Residuals:                            35   BIC:                             5.326\n",
      "Df Model:                                 1                                         \n",
      "Covariance Type:                  nonrobust                                         \n",
      "=======================================================================================\n",
      "                          coef    std err          t      P>|t|      [0.025      0.975]\n",
      "---------------------------------------------------------------------------------------\n",
      "Intercept               0.9225      0.099      9.311      0.000       0.721       1.124\n",
      "Q(\"GDP per Capita\") -2.459e-06    2.1e-06     -1.173      0.249   -6.72e-06     1.8e-06\n",
      "==============================================================================\n",
      "Omnibus:                       29.285   Durbin-Watson:                   1.746\n",
      "Prob(Omnibus):                  0.000   Jarque-Bera (JB):               53.487\n",
      "Skew:                          -2.148   Prob(JB):                     2.43e-12\n",
      "Kurtosis:                       7.030   Cond. No.                     1.17e+05\n",
      "==============================================================================\n",
      "\n",
      "Warnings:\n",
      "[1] Standard Errors assume that the covariance matrix of the errors is correctly specified.\n",
      "[2] The condition number is large, 1.17e+05. This might indicate that there are\n",
      "strong multicollinearity or other numerical problems.\n"
     ]
    }
   ],
   "source": [
    "outcome_3, predictors_3 = patsy.dmatrices('Q(\"Recovery Percentage\") ~ Q(\"GDP per Capita\")', combine_developed)\n",
    "mod_3 = sm.OLS(outcome_3, predictors_3)\n",
    "res_3 = mod_3.fit()\n",
    "print(res_3.summary())"
   ]
  },
  {
   "cell_type": "markdown",
   "metadata": {},
   "source": [
    "Now we are focusing on the countries with more than 20,000 GDP Per Capita. We plotted GDP per capita against recovery rate and made a linear model using OLS. Since R^2 is about 0.038, there is no sufficient evidence to support that the correlation between GDP Per Capita and Recovery Rate for developed countries. "
   ]
  },
  {
   "cell_type": "code",
   "execution_count": 26,
   "metadata": {
    "scrolled": true
   },
   "outputs": [
    {
     "data": {
      "text/plain": [
       "array([[<matplotlib.axes._subplots.AxesSubplot object at 0x1c1a048e50>]],\n",
       "      dtype=object)"
      ]
     },
     "execution_count": 26,
     "metadata": {},
     "output_type": "execute_result"
    },
    {
     "data": {
      "image/png": "[encoded data removed]",
      "text/plain": [
       "<Figure size 432x288 with 1 Axes>"
      ]
     },
     "metadata": {
      "needs_background": "light"
     },
     "output_type": "display_data"
    }
   ],
   "source": [
    "combine.hist(column = 'TotCases/ 1M pop', bins = 10)"
   ]
  },
  {
   "cell_type": "markdown",
   "metadata": {},
   "source": [
    "We then plotted a histogram of the total cases per 1 million populatin. \n",
    "\n",
    "The distribution for the variables doesn't seem to fit any of the common distributions, but the data was highly skewed towards the left.\n",
    "\n",
    "We observed that for most countries, there is less than 10000 cases per 1 million peopple."
   ]
  },
  {
   "cell_type": "code",
   "execution_count": 27,
   "metadata": {},
   "outputs": [
    {
     "data": {
      "text/plain": [
       "array([[<matplotlib.axes._subplots.AxesSubplot object at 0x1c1a173a50>]],\n",
       "      dtype=object)"
      ]
     },
     "execution_count": 27,
     "metadata": {},
     "output_type": "execute_result"
    },
    {
     "data": {
      "image/png": "[encoded data removed]",
      "text/plain": [
       "<Figure size 432x288 with 1 Axes>"
      ]
     },
     "metadata": {
      "needs_background": "light"
     },
     "output_type": "display_data"
    }
   ],
   "source": [
    "combine_developing.hist(column = 'TotCases/ 1M pop', bins = 10)"
   ]
  },
  {
   "cell_type": "markdown",
   "metadata": {},
   "source": [
    "Again, we wanted to see if there are distribution differences between developing and developed countries. \n",
    "\n",
    "We plotted a histogram of the total cases per 1 million population for developing countries.\n",
    "\n",
    "The data, again, doesn't fit any common distributions and is skewed towards the left.\n",
    "\n",
    "We observed that again, most developing countries have a low number of cases per million people (<10000)"
   ]
  },
  {
   "cell_type": "code",
   "execution_count": 28,
   "metadata": {
    "scrolled": true
   },
   "outputs": [
    {
     "data": {
      "text/plain": [
       "array([[<matplotlib.axes._subplots.AxesSubplot object at 0x1c1a218b50>]],\n",
       "      dtype=object)"
      ]
     },
     "execution_count": 28,
     "metadata": {},
     "output_type": "execute_result"
    },
    {
     "data": {
      "image/png": "[encoded data removed]",
      "text/plain": [
       "<Figure size 432x288 with 1 Axes>"
      ]
     },
     "metadata": {
      "needs_background": "light"
     },
     "output_type": "display_data"
    }
   ],
   "source": [
    "combine_developed.hist(column = 'TotCases/ 1M pop', bins = 10)"
   ]
  },
  {
   "cell_type": "markdown",
   "metadata": {},
   "source": [
    "We then plotted a histogram of the total cases per 1 million population for developed countries.\n",
    "\n",
    "The data, again, doesn't fit any common distributions, though one can argue that is it nearing a uniform distribution. However, the sample size is too low to say so. The data is skewed towards the left.\n",
    "\n",
    "We observed that developed countries' total cases / 1M population was much more varied than previous variables, but still favoring the low end of <10000 cases/ 1M population."
   ]
  },
  {
   "cell_type": "code",
   "execution_count": 29,
   "metadata": {
    "scrolled": true
   },
   "outputs": [
    {
     "data": {
      "image/png": "[encoded data removed]",
      "text/plain": [
       "<Figure size 360x360 with 1 Axes>"
      ]
     },
     "metadata": {
      "needs_background": "light"
     },
     "output_type": "display_data"
    }
   ],
   "source": [
    "sns.lmplot(x='GDP per Capita', y='TotCases/ 1M pop', data=combine, fit_reg=True);"
   ]
  },
  {
   "cell_type": "code",
   "execution_count": 46,
   "metadata": {
    "scrolled": true
   },
   "outputs": [
    {
     "data": {
      "text/html": [
       "<div>\n",
       "<style scoped>\n",
       "    .dataframe tbody tr th:only-of-type {\n",
       "        vertical-align: middle;\n",
       "    }\n",
       "\n",
       "    .dataframe tbody tr th {\n",
       "        vertical-align: top;\n",
       "    }\n",
       "\n",
       "    .dataframe thead th {\n",
       "        text-align: right;\n",
       "    }\n",
       "</style>\n",
       "<table border=\"1\" class=\"dataframe\">\n",
       "  <thead>\n",
       "    <tr style=\"text-align: right;\">\n",
       "      <th></th>\n",
       "      <th>Country</th>\n",
       "      <th>Total Cases</th>\n",
       "      <th>Total Deaths</th>\n",
       "      <th>Total Recovered</th>\n",
       "      <th>TotCases/ 1M pop</th>\n",
       "      <th>Deaths/1M pop</th>\n",
       "      <th>Total Tests</th>\n",
       "      <th>Tests/1M pop</th>\n",
       "      <th>Population</th>\n",
       "      <th>Units</th>\n",
       "      <th>Scale</th>\n",
       "      <th>2020 GDP</th>\n",
       "      <th>Recovery Percentage</th>\n",
       "      <th>GDP per Capita</th>\n",
       "    </tr>\n",
       "  </thead>\n",
       "  <tbody>\n",
       "    <tr>\n",
       "      <td>91</td>\n",
       "      <td>Montenegro</td>\n",
       "      <td>67441</td>\n",
       "      <td>869.0</td>\n",
       "      <td>58210.0</td>\n",
       "      <td>107370.0</td>\n",
       "      <td>1384.0</td>\n",
       "      <td>249215.0</td>\n",
       "      <td>396767.0</td>\n",
       "      <td>628115.0</td>\n",
       "      <td>U.S. dollars</td>\n",
       "      <td>Billions</td>\n",
       "      <td>4.943</td>\n",
       "      <td>0.863125</td>\n",
       "      <td>7869.578023</td>\n",
       "    </tr>\n",
       "  </tbody>\n",
       "</table>\n",
       "</div>"
      ],
      "text/plain": [
       "       Country  Total Cases  Total Deaths  Total Recovered  TotCases/ 1M pop  \\\n",
       "91  Montenegro        67441         869.0          58210.0          107370.0   \n",
       "\n",
       "    Deaths/1M pop  Total Tests  Tests/1M pop  Population         Units  \\\n",
       "91         1384.0     249215.0      396767.0    628115.0  U.S. dollars   \n",
       "\n",
       "       Scale  2020 GDP  Recovery Percentage  GDP per Capita  \n",
       "91  Billions     4.943             0.863125     7869.578023  "
      ]
     },
     "execution_count": 46,
     "metadata": {},
     "output_type": "execute_result"
    }
   ],
   "source": [
    "total_cases_outlier = combine[combine['TotCases/ 1M pop'] == max(combine['TotCases/ 1M pop'])]\n",
    "total_cases_outlier"
   ]
  },
  {
   "cell_type": "markdown",
   "metadata": {},
   "source": [
    "Montenegro had the significant high total cases per 1 Million people among all other countries, and it may cause the correlation and R^2 to be inaccurate between GDP Per Capita and Total Cases Per 1 Million People. "
   ]
  },
  {
   "cell_type": "code",
   "execution_count": 30,
   "metadata": {
    "scrolled": true
   },
   "outputs": [
    {
     "name": "stdout",
     "output_type": "stream",
     "text": [
      "                              OLS Regression Results                             \n",
      "=================================================================================\n",
      "Dep. Variable:     Q(\"TotCases/ 1M pop\")   R-squared:                       0.228\n",
      "Model:                               OLS   Adj. R-squared:                  0.224\n",
      "Method:                    Least Squares   F-statistic:                     54.08\n",
      "Date:                   Sat, 27 Feb 2021   Prob (F-statistic):           6.24e-12\n",
      "Time:                           15:23:39   Log-Likelihood:                -2108.4\n",
      "No. Observations:                    185   AIC:                             4221.\n",
      "Df Residuals:                        183   BIC:                             4227.\n",
      "Df Model:                              1                                         \n",
      "Covariance Type:               nonrobust                                         \n",
      "=======================================================================================\n",
      "                          coef    std err          t      P>|t|      [0.025      0.975]\n",
      "---------------------------------------------------------------------------------------\n",
      "Intercept            1.176e+04   1969.516      5.970      0.000    7872.671    1.56e+04\n",
      "Q(\"GDP per Capita\")     0.6351      0.086      7.354      0.000       0.465       0.805\n",
      "==============================================================================\n",
      "Omnibus:                       41.634   Durbin-Watson:                   1.551\n",
      "Prob(Omnibus):                  0.000   Jarque-Bera (JB):               70.171\n",
      "Skew:                           1.154   Prob(JB):                     5.79e-16\n",
      "Kurtosis:                       4.944   Cond. No.                     2.82e+04\n",
      "==============================================================================\n",
      "\n",
      "Warnings:\n",
      "[1] Standard Errors assume that the covariance matrix of the errors is correctly specified.\n",
      "[2] The condition number is large, 2.82e+04. This might indicate that there are\n",
      "strong multicollinearity or other numerical problems.\n"
     ]
    }
   ],
   "source": [
    "outcome_4, predictors_4 = patsy.dmatrices('Q(\"TotCases/ 1M pop\") ~ Q(\"GDP per Capita\")', combine)\n",
    "mod_4 = sm.OLS(outcome_4, predictors_4)\n",
    "res_4 = mod_4.fit()\n",
    "print(res_4.summary())"
   ]
  },
  {
   "cell_type": "markdown",
   "metadata": {},
   "source": [
    "We plotted GDP per capita against total cases/ 1M population and made a linear model using OLS. \n",
    "Since the R^2 is about 0.228, there is no sufficient evidence to support that the correlation between GDP Per Capita and Total Cases Per 1 Million People. This is most likely because most countries have GDP Per Capita lower than 20,000, so this graph is not normally distributed. "
   ]
  },
  {
   "cell_type": "code",
   "execution_count": 31,
   "metadata": {
    "scrolled": true
   },
   "outputs": [
    {
     "data": {
      "image/png": "[encoded data removed]",
      "text/plain": [
       "<Figure size 360x360 with 1 Axes>"
      ]
     },
     "metadata": {
      "needs_background": "light"
     },
     "output_type": "display_data"
    }
   ],
   "source": [
    "sns.lmplot(x='GDP per Capita', y='Deaths/1M pop', data=combine, fit_reg=True);"
   ]
  },
  {
   "cell_type": "code",
   "execution_count": 32,
   "metadata": {
    "scrolled": true
   },
   "outputs": [
    {
     "name": "stdout",
     "output_type": "stream",
     "text": [
      "                            OLS Regression Results                            \n",
      "==============================================================================\n",
      "Dep. Variable:     Q(\"Deaths/1M pop\")   R-squared:                       0.121\n",
      "Model:                            OLS   Adj. R-squared:                  0.115\n",
      "Method:                 Least Squares   F-statistic:                     23.57\n",
      "Date:                Sat, 27 Feb 2021   Prob (F-statistic):           2.69e-06\n",
      "Time:                        15:23:40   Log-Likelihood:                -1318.8\n",
      "No. Observations:                 174   AIC:                             2642.\n",
      "Df Residuals:                     172   BIC:                             2648.\n",
      "Df Model:                           1                                         \n",
      "Covariance Type:            nonrobust                                         \n",
      "=======================================================================================\n",
      "                          coef    std err          t      P>|t|      [0.025      0.975]\n",
      "---------------------------------------------------------------------------------------\n",
      "Intercept             274.3750     44.810      6.123      0.000     185.927     362.824\n",
      "Q(\"GDP per Capita\")     0.0093      0.002      4.855      0.000       0.006       0.013\n",
      "==============================================================================\n",
      "Omnibus:                       28.553   Durbin-Watson:                   1.414\n",
      "Prob(Omnibus):                  0.000   Jarque-Bera (JB):               37.245\n",
      "Skew:                           1.112   Prob(JB):                     8.17e-09\n",
      "Kurtosis:                       3.438   Cond. No.                     2.89e+04\n",
      "==============================================================================\n",
      "\n",
      "Warnings:\n",
      "[1] Standard Errors assume that the covariance matrix of the errors is correctly specified.\n",
      "[2] The condition number is large, 2.89e+04. This might indicate that there are\n",
      "strong multicollinearity or other numerical problems.\n"
     ]
    }
   ],
   "source": [
    "outcome_5, predictors_5 = patsy.dmatrices('Q(\"Deaths/1M pop\") ~ Q(\"GDP per Capita\")', combine)\n",
    "mod_5 = sm.OLS(outcome_5, predictors_5)\n",
    "res_5 = mod_5.fit()\n",
    "print(res_5.summary())"
   ]
  },
  {
   "cell_type": "markdown",
   "metadata": {},
   "source": [
    "We plotted GDP per capita against total deaths/ 1M population and made a linear model using OLS. \n",
    "Since the R^2 is about 0.121, there is no sufficient evidence to support that the correlation between GDP Per Capita and Total Deaths Per 1 Million People. This is most likely because most countries have GDP Per Capita lower than 20,000, so this graph is not normally distributed. "
   ]
  },
  {
   "cell_type": "code",
   "execution_count": 33,
   "metadata": {},
   "outputs": [
    {
     "data": {
      "image/png": "[encoded data removed]",
      "text/plain": [
       "<Figure size 360x360 with 1 Axes>"
      ]
     },
     "metadata": {
      "needs_background": "light"
     },
     "output_type": "display_data"
    }
   ],
   "source": [
    "sns.lmplot(x='GDP per Capita', y='TotCases/ 1M pop', data=combine_developing, fit_reg=True);"
   ]
  },
  {
   "cell_type": "code",
   "execution_count": 34,
   "metadata": {},
   "outputs": [
    {
     "name": "stdout",
     "output_type": "stream",
     "text": [
      "                              OLS Regression Results                             \n",
      "=================================================================================\n",
      "Dep. Variable:     Q(\"TotCases/ 1M pop\")   R-squared:                       0.228\n",
      "Model:                               OLS   Adj. R-squared:                  0.223\n",
      "Method:                    Least Squares   F-statistic:                     42.32\n",
      "Date:                   Sat, 27 Feb 2021   Prob (F-statistic):           1.22e-09\n",
      "Time:                           15:23:40   Log-Likelihood:                -1613.6\n",
      "No. Observations:                    145   AIC:                             3231.\n",
      "Df Residuals:                        143   BIC:                             3237.\n",
      "Df Model:                              1                                         \n",
      "Covariance Type:               nonrobust                                         \n",
      "=======================================================================================\n",
      "                          coef    std err          t      P>|t|      [0.025      0.975]\n",
      "---------------------------------------------------------------------------------------\n",
      "Intercept            5003.0137   1988.323      2.516      0.013    1072.711    8933.316\n",
      "Q(\"GDP per Capita\")     1.8019      0.277      6.505      0.000       1.254       2.349\n",
      "==============================================================================\n",
      "Omnibus:                       67.822   Durbin-Watson:                   1.448\n",
      "Prob(Omnibus):                  0.000   Jarque-Bera (JB):              263.061\n",
      "Skew:                           1.735   Prob(JB):                     7.53e-58\n",
      "Kurtosis:                       8.613   Cond. No.                     1.04e+04\n",
      "==============================================================================\n",
      "\n",
      "Warnings:\n",
      "[1] Standard Errors assume that the covariance matrix of the errors is correctly specified.\n",
      "[2] The condition number is large, 1.04e+04. This might indicate that there are\n",
      "strong multicollinearity or other numerical problems.\n"
     ]
    }
   ],
   "source": [
    "outcome_6, predictors_6 = patsy.dmatrices('Q(\"TotCases/ 1M pop\") ~ Q(\"GDP per Capita\")', combine_developing)\n",
    "mod_6 = sm.OLS(outcome_6, predictors_6)\n",
    "res_6 = mod_6.fit()\n",
    "print(res_6.summary())"
   ]
  },
  {
   "cell_type": "markdown",
   "metadata": {},
   "source": [
    "Now we are focusing on the countries with less than 20,000 GDP Per Capita.We then plotted GDP per capita against total cases/ 1M population and made a linear model using OLS. Since the R^2 is about 0.228, this is no sufficient evidence to support that the correlation between GDP Per Capita and Total Cases Per 1 Million People for developing countries. "
   ]
  },
  {
   "cell_type": "code",
   "execution_count": 35,
   "metadata": {
    "scrolled": true
   },
   "outputs": [
    {
     "data": {
      "image/png": "[encoded data removed]",
      "text/plain": [
       "<Figure size 360x360 with 1 Axes>"
      ]
     },
     "metadata": {
      "needs_background": "light"
     },
     "output_type": "display_data"
    }
   ],
   "source": [
    "sns.lmplot(x='GDP per Capita', y='Deaths/1M pop', data=combine_developing, fit_reg=True);"
   ]
  },
  {
   "cell_type": "code",
   "execution_count": 36,
   "metadata": {
    "scrolled": true
   },
   "outputs": [
    {
     "name": "stdout",
     "output_type": "stream",
     "text": [
      "                            OLS Regression Results                            \n",
      "==============================================================================\n",
      "Dep. Variable:     Q(\"Deaths/1M pop\")   R-squared:                       0.172\n",
      "Model:                            OLS   Adj. R-squared:                  0.166\n",
      "Method:                 Least Squares   F-statistic:                     27.69\n",
      "Date:                Sat, 27 Feb 2021   Prob (F-statistic):           5.55e-07\n",
      "Time:                        15:23:41   Log-Likelihood:                -992.46\n",
      "No. Observations:                 135   AIC:                             1989.\n",
      "Df Residuals:                     133   BIC:                             1995.\n",
      "Df Model:                           1                                         \n",
      "Covariance Type:            nonrobust                                         \n",
      "=======================================================================================\n",
      "                          coef    std err          t      P>|t|      [0.025      0.975]\n",
      "---------------------------------------------------------------------------------------\n",
      "Intercept             129.6668     47.196      2.747      0.007      36.316     223.018\n",
      "Q(\"GDP per Capita\")     0.0343      0.007      5.262      0.000       0.021       0.047\n",
      "==============================================================================\n",
      "Omnibus:                       26.301   Durbin-Watson:                   1.519\n",
      "Prob(Omnibus):                  0.000   Jarque-Bera (JB):               34.281\n",
      "Skew:                           1.152   Prob(JB):                     3.60e-08\n",
      "Kurtosis:                       3.887   Cond. No.                     1.05e+04\n",
      "==============================================================================\n",
      "\n",
      "Warnings:\n",
      "[1] Standard Errors assume that the covariance matrix of the errors is correctly specified.\n",
      "[2] The condition number is large, 1.05e+04. This might indicate that there are\n",
      "strong multicollinearity or other numerical problems.\n"
     ]
    }
   ],
   "source": [
    "outcome, predictors = patsy.dmatrices('Q(\"Deaths/1M pop\") ~ Q(\"GDP per Capita\")', combine_developing)\n",
    "mod = sm.OLS(outcome, predictors)\n",
    "res = mod.fit()\n",
    "print(res.summary())"
   ]
  },
  {
   "cell_type": "markdown",
   "metadata": {},
   "source": [
    "Now we are focusing on the countries with less than 20,000 GDP Per Capita. We plotted GDP per capita against total cases/ 1M population and made a linear model using OLS. Since the R^2 is about 0.17, there is still no sufficient evidence to support that the correlation between GDP Per Capita and Total Deaths Per 1 Million People for developing countries. "
   ]
  },
  {
   "cell_type": "code",
   "execution_count": 37,
   "metadata": {},
   "outputs": [
    {
     "data": {
      "image/png": "[encoded data removed]",
      "text/plain": [
       "<Figure size 360x360 with 1 Axes>"
      ]
     },
     "metadata": {
      "needs_background": "light"
     },
     "output_type": "display_data"
    }
   ],
   "source": [
    "sns.lmplot(x='GDP per Capita', y='TotCases/ 1M pop', data=combine_developed, fit_reg=True);"
   ]
  },
  {
   "cell_type": "code",
   "execution_count": 38,
   "metadata": {
    "scrolled": true
   },
   "outputs": [
    {
     "name": "stdout",
     "output_type": "stream",
     "text": [
      "                              OLS Regression Results                             \n",
      "=================================================================================\n",
      "Dep. Variable:     Q(\"TotCases/ 1M pop\")   R-squared:                       0.001\n",
      "Model:                               OLS   Adj. R-squared:                 -0.025\n",
      "Method:                    Least Squares   F-statistic:                   0.03073\n",
      "Date:                   Sat, 27 Feb 2021   Prob (F-statistic):              0.862\n",
      "Time:                           15:23:42   Log-Likelihood:                -469.41\n",
      "No. Observations:                     40   AIC:                             942.8\n",
      "Df Residuals:                         38   BIC:                             946.2\n",
      "Df Model:                              1                                         \n",
      "Covariance Type:               nonrobust                                         \n",
      "=======================================================================================\n",
      "                          coef    std err          t      P>|t|      [0.025      0.975]\n",
      "---------------------------------------------------------------------------------------\n",
      "Intercept            3.983e+04   1.24e+04      3.205      0.003    1.47e+04     6.5e+04\n",
      "Q(\"GDP per Capita\")     0.0463      0.264      0.175      0.862      -0.488       0.581\n",
      "==============================================================================\n",
      "Omnibus:                        7.019   Durbin-Watson:                   1.543\n",
      "Prob(Omnibus):                  0.030   Jarque-Bera (JB):                2.277\n",
      "Skew:                           0.101   Prob(JB):                        0.320\n",
      "Kurtosis:                       1.849   Cond. No.                     1.19e+05\n",
      "==============================================================================\n",
      "\n",
      "Warnings:\n",
      "[1] Standard Errors assume that the covariance matrix of the errors is correctly specified.\n",
      "[2] The condition number is large, 1.19e+05. This might indicate that there are\n",
      "strong multicollinearity or other numerical problems.\n"
     ]
    }
   ],
   "source": [
    "outcome, predictors = patsy.dmatrices('Q(\"TotCases/ 1M pop\") ~ Q(\"GDP per Capita\")', combine_developed)\n",
    "mod = sm.OLS(outcome, predictors)\n",
    "res = mod.fit()\n",
    "print(res.summary())"
   ]
  },
  {
   "cell_type": "markdown",
   "metadata": {},
   "source": [
    "Now we are focusing on the countries with more than 20,000 GDP Per Capita.We then plotted GDP per capita against total cases/ 1M population and made a linear model using OLS. Since the R^2 is about 0.001, this is no sufficient evidence to support that the correlation between GDP Per Capita and Total Cases Per 1 Million People for developed countries. "
   ]
  },
  {
   "cell_type": "code",
   "execution_count": 39,
   "metadata": {
    "scrolled": true
   },
   "outputs": [
    {
     "data": {
      "image/png": "[encoded data removed]",
      "text/plain": [
       "<Figure size 360x360 with 1 Axes>"
      ]
     },
     "metadata": {
      "needs_background": "light"
     },
     "output_type": "display_data"
    }
   ],
   "source": [
    "sns.lmplot(x='GDP per Capita', y='Deaths/1M pop', data=combine_developed, fit_reg=True);"
   ]
  },
  {
   "cell_type": "code",
   "execution_count": null,
   "metadata": {},
   "outputs": [],
   "source": [
    "combine_developed_outlier = combine_developed[combine_developed['Deaths/1M pop'] > 2000]\n",
    "combine_developed_outlier"
   ]
  },
  {
   "cell_type": "markdown",
   "metadata": {},
   "source": [
    "San Marino had the significant high death rate among other developed countries, and it may cause the correlation and R^2 to be inaccurate between GDP Per Capita and Total Death Rate Per 1 Million People."
   ]
  },
  {
   "cell_type": "code",
   "execution_count": 40,
   "metadata": {
    "scrolled": false
   },
   "outputs": [
    {
     "name": "stdout",
     "output_type": "stream",
     "text": [
      "                            OLS Regression Results                            \n",
      "==============================================================================\n",
      "Dep. Variable:     Q(\"Deaths/1M pop\")   R-squared:                       0.172\n",
      "Model:                            OLS   Adj. R-squared:                  0.166\n",
      "Method:                 Least Squares   F-statistic:                     27.69\n",
      "Date:                Sat, 27 Feb 2021   Prob (F-statistic):           5.55e-07\n",
      "Time:                        15:23:43   Log-Likelihood:                -992.46\n",
      "No. Observations:                 135   AIC:                             1989.\n",
      "Df Residuals:                     133   BIC:                             1995.\n",
      "Df Model:                           1                                         \n",
      "Covariance Type:            nonrobust                                         \n",
      "=======================================================================================\n",
      "                          coef    std err          t      P>|t|      [0.025      0.975]\n",
      "---------------------------------------------------------------------------------------\n",
      "Intercept             129.6668     47.196      2.747      0.007      36.316     223.018\n",
      "Q(\"GDP per Capita\")     0.0343      0.007      5.262      0.000       0.021       0.047\n",
      "==============================================================================\n",
      "Omnibus:                       26.301   Durbin-Watson:                   1.519\n",
      "Prob(Omnibus):                  0.000   Jarque-Bera (JB):               34.281\n",
      "Skew:                           1.152   Prob(JB):                     3.60e-08\n",
      "Kurtosis:                       3.887   Cond. No.                     1.05e+04\n",
      "==============================================================================\n",
      "\n",
      "Warnings:\n",
      "[1] Standard Errors assume that the covariance matrix of the errors is correctly specified.\n",
      "[2] The condition number is large, 1.05e+04. This might indicate that there are\n",
      "strong multicollinearity or other numerical problems.\n"
     ]
    }
   ],
   "source": [
    "outcome, predictors = patsy.dmatrices('Q(\"Deaths/1M pop\") ~ Q(\"GDP per Capita\")', combine_developing)\n",
    "mod = sm.OLS(outcome, predictors)\n",
    "res = mod.fit()\n",
    "print(res.summary())"
   ]
  },
  {
   "cell_type": "markdown",
   "metadata": {},
   "source": [
    "Now we are focusing on the countries with more than 20,000 GDP Per Capita.We then plotted GDP per capita against total cases/ 1M population and made a linear model using OLS. Since the R^2 is about 0.172, this is no sufficient evidence to support that the correlation between GDP Per Capita and Total Cases Per 1 Million People for developed countries. "
   ]
  }
 ],
 "metadata": {
  "kernelspec": {
   "display_name": "Python 3",
   "language": "python",
   "name": "python3"
  },
  "language_info": {
   "codemirror_mode": {
    "name": "ipython",
    "version": 3
   },
   "file_extension": ".py",
   "mimetype": "text/x-python",
   "name": "python",
   "nbconvert_exporter": "python",
   "pygments_lexer": "ipython3",
   "version": "3.7.4"
  }
 },
 "nbformat": 4,
 "nbformat_minor": 2
}
