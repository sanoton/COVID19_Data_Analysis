{
 "cells": [
  {
   "cell_type": "markdown",
   "metadata": {},
   "source": [
    "# COGS 108 - Final Project (change this to your project's title)"
   ]
  },
  {
   "cell_type": "markdown",
   "metadata": {},
   "source": [
    "## Permissions\n",
    "\n",
    "Place an `X` in the appropriate bracket below to specify if you would like your group's project to be made available to the public. (Note that student names will be included (but PIDs will be scraped from any groups who include their PIDs).\n",
    "\n",
    "* [X] YES - make available\n",
    "* [  ] NO - keep private"
   ]
  },
  {
   "cell_type": "markdown",
   "metadata": {},
   "source": [
    "# Overview"
   ]
  },
  {
   "cell_type": "markdown",
   "metadata": {},
   "source": [
    "Our project was initially set out to assume that developed countries will tend to have more advanced health resources, which leads to a lower infection/death rate and a higher recovery rate during the COVID-19 pandemic. However, to further analyze, we separate the countries into two groups, developed and developing, and determine that there is no correlation between the economic status of a country and its COVID-19 health conditions. Plus, we even noticed that the developed countries have higher infection rate statistically, and both groups share the same death and recovery rates. "
   ]
  },
  {
   "cell_type": "markdown",
   "metadata": {},
   "source": [
    "# Names\n",
    "\n",
    "* Li-An Wu\n",
    "* Ray Huang\n",
    "* Tony Lin\n",
    "* Steven Kan"
   ]
  },
  {
   "cell_type": "markdown",
   "metadata": {},
   "source": [
    "<a id='research_question'></a>\n",
    "# Research Question"
   ]
  },
  {
   "cell_type": "markdown",
   "metadata": {},
   "source": [
    "Does the GDP or poverty rate of a country affect its death/infected/recovered rate of the COVID-19?\n",
    " - Is there any negative correlation between the economic status and mortality rate of COVID-19?\n",
    " - Is there any negative correlation between the economic status and infection rate of COVID-19?\n",
    " - Is there any positive correlation between the economic status and recovered rate of COVID-19?"
   ]
  },
  {
   "cell_type": "markdown",
   "metadata": {},
   "source": [
    "<a id='background'></a>\n",
    "\n",
    "## Background & Prior Work"
   ]
  },
  {
   "cell_type": "markdown",
   "metadata": {},
   "source": [
    "In December 2019, COVID-19 was first discovered in Wuhan, China. It is a highly contagious disease that causes severe complications to peoples’ respiratory systems. Its contagion has been unprecedentedly powerful and since its first appearance, more than a hundred million people have been infected worldwide, resulting in more than 2 million deaths. Many peoples’ lives have thus been affected by the pandemic. In fact, many other lethal viruses have also appeared in our history,  such as SARS virus, Ebola virus, and HIV virus etc… As we researched these past diseases, we found an interesting correlation- most of them appeared to be pervasive in areas of developing countries like Africa and Asia. With COVID-19 however, advanced countries like the United States, UK, France and many more seem to be the most severely affected areas in the world. Thus, we are interested to see if there is a relationship between the severity of COVID-19 and a country’s wealth level.\n",
    "\n",
    "As we searched through the internet for similar projects, we have found a useful COVID-19 project from “Our World in Data”. This project has provided us with a visualized graph with death per millions people of each country put side by side. From this project, we found that many advanced countries such as Belgium, UK, and Germany have the highest death rate and developing countries like Tanzania have significantly lower death rates. \n",
    "\n",
    "In addition, we have also found another research by the british media “mail Online”, it points out that poor countries' death rate of covid may be significantly biased due to multiple reasons. For example, COVID-19 usually causes death in older people, but in poor countries, life expectancy simply just isn’t that long. Moreover, there are also multiple other diseases plaguing these countries, causing deaths and thus impairing the rate of death by COVID-19.\n",
    "\n",
    "Reference:\n",
    "* https://ourworldindata.org/covid-19-project-charts\n",
    "* https://www.dailymail.co.uk/news/article-8697783/Are-people-Africa-protected-Covid-19-POVERTY.html "
   ]
  },
  {
   "cell_type": "markdown",
   "metadata": {},
   "source": [
    "# Hypothesis\n"
   ]
  },
  {
   "cell_type": "markdown",
   "metadata": {},
   "source": [
    "Since a country’s medical and technological development is highly related to its financial power, we predict that countries with higher GDP and lower poverty rates will have a lower death and infection rate on COVID-19. If a country has a stronger health system and a more stable economy, we think that it has a higher chance of preventing the spread and severity of COVID-19."
   ]
  },
  {
   "cell_type": "markdown",
   "metadata": {},
   "source": [
    "# Dataset(s)"
   ]
  },
  {
   "cell_type": "markdown",
   "metadata": {},
   "source": [
    "Dataset Name: Coronavirus death/infected population by country:   \\\n",
    "Link to the dataset: https://www.worldometers.info/coronavirus/#countries  \\\n",
    "Number of observation: 220  \n",
    "Description: This dataset contains COVID related information by country.\n",
    "\n",
    "Dataset Name: GDP by country              \n",
    "Link to the dataset:\n",
    "https://www.imf.org/en/Publications/WEO/weo-database/2020/October/weo-report?c=512,914,612,614,311,213,911,314,193,122,912,313,419,513,316,913,124,339,638,514,218,963,616,223,516,918,748,618,624,522,622,156,626,628,228,924,233,632,636,634,238,662,960,423,935,128,611,321,243,248,469,253,642,643,939,734,644,819,172,132,646,648,915,134,652,174,328,258,656,654,336,263,268,532,944,176,534,536,429,433,178,436,136,343,158,439,916,664,826,542,967,443,917,544,941,446,666,668,672,946,137,546,674,676,548,556,678,181,867,682,684,273,868,921,948,943,686,688,518,728,836,558,138,196,278,692,694,962,142,449,564,565,283,853,288,293,566,964,182,359,453,968,922,714,862,135,716,456,722,942,718,724,576,936,961,813,726,199,733,184,524,361,362,364,732,366,144,146,463,528,923,738,578,537,742,866,369,744,186,925,869,746,926,466,112,111,298,927,846,299,582,487,474,754,698,&s=NGDPD,PPPGDP,&sy=2019&ey=2020&ssm=0&scsm=0&scc=0&ssd=1&ssc=0&sic=0&sort=country&ds=.&br=1\n",
    "\n",
    "Number of observation: 390            \n",
    "Description: This dataset contains information about GDP of each country in US dollar (in Billions)\n",
    "\n",
    "Dataset Name: Poverty rate by country:\n",
    "\n",
    "Link to the dataset: https://worldpopulationreview.com/country-rankings/poverty-rate-by-country\n",
    "Number of observation: 162           \n",
    "Description: This dataset contains the poverty rate among all countries \n",
    " "
   ]
  },
  {
   "cell_type": "markdown",
   "metadata": {},
   "source": [
    "# Setup"
   ]
  },
  {
   "cell_type": "code",
   "execution_count": 1,
   "metadata": {},
   "outputs": [],
   "source": [
    "import numpy as np\n",
    "import pandas as pd\n",
    "import seaborn as sns\n",
    "import matplotlib.pyplot as plt\n",
    "import matplotlib as mpl\n",
    "import scipy\n",
    "\n",
    "import patsy\n",
    "import statsmodels.api as sm\n",
    "import scipy.stats as stats\n",
    "from scipy.stats import ttest_ind, chisquare, normaltest"
   ]
  },
  {
   "cell_type": "markdown",
   "metadata": {},
   "source": [
    "# Data Cleaning"
   ]
  },
  {
   "cell_type": "markdown",
   "metadata": {},
   "source": [
    "Describe your data cleaning steps here."
   ]
  },
  {
   "cell_type": "markdown",
   "metadata": {},
   "source": [
    "1. drop all non relevent (not needed) columns\n",
    "2. remove outliers"
   ]
  },
  {
   "cell_type": "code",
   "execution_count": 2,
   "metadata": {},
   "outputs": [],
   "source": [
    "covid_death = pd.read_csv(\"worldometer_coronavirus.csv\")\n",
    "GDP_country = pd.read_csv('WEO_Data.csv', encoding = \"ISO-8859-1\")\n",
    "poverty = pd.read_csv(\"csvData.csv\")"
   ]
  },
  {
   "cell_type": "code",
   "execution_count": 3,
   "metadata": {
    "scrolled": true
   },
   "outputs": [
    {
     "data": {
      "text/html": [
       "<div>\n",
       "<style scoped>\n",
       "    .dataframe tbody tr th:only-of-type {\n",
       "        vertical-align: middle;\n",
       "    }\n",
       "\n",
       "    .dataframe tbody tr th {\n",
       "        vertical-align: top;\n",
       "    }\n",
       "\n",
       "    .dataframe thead th {\n",
       "        text-align: right;\n",
       "    }\n",
       "</style>\n",
       "<table border=\"1\" class=\"dataframe\">\n",
       "  <thead>\n",
       "    <tr style=\"text-align: right;\">\n",
       "      <th></th>\n",
       "      <th>Country</th>\n",
       "      <th>Total Cases</th>\n",
       "      <th>Total Deaths</th>\n",
       "      <th>Total Recovered</th>\n",
       "      <th>TotCases/ 1M pop</th>\n",
       "      <th>Deaths/1M pop</th>\n",
       "      <th>Population</th>\n",
       "    </tr>\n",
       "  </thead>\n",
       "  <tbody>\n",
       "    <tr>\n",
       "      <td>0</td>\n",
       "      <td>World</td>\n",
       "      <td>108416629</td>\n",
       "      <td>2381578.0</td>\n",
       "      <td>80605048.0</td>\n",
       "      <td>13909.0</td>\n",
       "      <td>305.5</td>\n",
       "      <td>NaN</td>\n",
       "    </tr>\n",
       "    <tr>\n",
       "      <td>1</td>\n",
       "      <td>USA</td>\n",
       "      <td>28010156</td>\n",
       "      <td>487171.0</td>\n",
       "      <td>17932117.0</td>\n",
       "      <td>84318.0</td>\n",
       "      <td>1467.0</td>\n",
       "      <td>3.321986e+08</td>\n",
       "    </tr>\n",
       "    <tr>\n",
       "      <td>2</td>\n",
       "      <td>India</td>\n",
       "      <td>10880794</td>\n",
       "      <td>155489.0</td>\n",
       "      <td>10589230.0</td>\n",
       "      <td>7837.0</td>\n",
       "      <td>112.0</td>\n",
       "      <td>1.388346e+09</td>\n",
       "    </tr>\n",
       "    <tr>\n",
       "      <td>3</td>\n",
       "      <td>Brazil</td>\n",
       "      <td>9716298</td>\n",
       "      <td>236397.0</td>\n",
       "      <td>8643693.0</td>\n",
       "      <td>45512.0</td>\n",
       "      <td>1107.0</td>\n",
       "      <td>2.134898e+08</td>\n",
       "    </tr>\n",
       "    <tr>\n",
       "      <td>4</td>\n",
       "      <td>Russia</td>\n",
       "      <td>4042837</td>\n",
       "      <td>79194.0</td>\n",
       "      <td>3559142.0</td>\n",
       "      <td>27696.0</td>\n",
       "      <td>543.0</td>\n",
       "      <td>1.459731e+08</td>\n",
       "    </tr>\n",
       "  </tbody>\n",
       "</table>\n",
       "</div>"
      ],
      "text/plain": [
       "  Country  Total Cases  Total Deaths  Total Recovered  TotCases/ 1M pop  \\\n",
       "0   World    108416629     2381578.0       80605048.0           13909.0   \n",
       "1     USA     28010156      487171.0       17932117.0           84318.0   \n",
       "2   India     10880794      155489.0       10589230.0            7837.0   \n",
       "3  Brazil      9716298      236397.0        8643693.0           45512.0   \n",
       "4  Russia      4042837       79194.0        3559142.0           27696.0   \n",
       "\n",
       "   Deaths/1M pop    Population  \n",
       "0          305.5           NaN  \n",
       "1         1467.0  3.321986e+08  \n",
       "2          112.0  1.388346e+09  \n",
       "3         1107.0  2.134898e+08  \n",
       "4          543.0  1.459731e+08  "
      ]
     },
     "execution_count": 3,
     "metadata": {},
     "output_type": "execute_result"
    }
   ],
   "source": [
    "#Removing commas from numbers\n",
    "covid_death = covid_death.replace(',','', regex=True)\n",
    "# Convert string to integer\n",
    "covid_death['Total Cases'] = pd.to_numeric(covid_death['Total Cases'])\n",
    "covid_death['Total Deaths'] = pd.to_numeric(covid_death['Total Deaths'])\n",
    "covid_death['Total Recovered'] = pd.to_numeric(covid_death['Total Recovered'])\n",
    "covid_death['Serious/Critical'] = pd.to_numeric(covid_death['Serious/Critical'])\n",
    "covid_death['TotCases/ 1M pop'] = pd.to_numeric(covid_death['TotCases/ 1M pop'])\n",
    "covid_death['Deaths/1M pop'] = pd.to_numeric(covid_death['Deaths/1M pop'])\n",
    "covid_death['Total Tests'] = pd.to_numeric(covid_death['Total Tests'])\n",
    "covid_death['Tests/1M pop'] = pd.to_numeric(covid_death['Tests/1M pop'])\n",
    "covid_death['Population'] = pd.to_numeric(covid_death['Population'])\n",
    "\n",
    "#Dropping Unused Columns.\n",
    "covid_death = covid_death.drop(columns=['New Cases', 'New Deaths', 'Active Cases','Serious/Critical','Total Tests', 'Tests/1M pop' ])\n",
    "covid_death.head()"
   ]
  },
  {
   "cell_type": "code",
   "execution_count": 4,
   "metadata": {},
   "outputs": [
    {
     "data": {
      "text/html": [
       "<div>\n",
       "<style scoped>\n",
       "    .dataframe tbody tr th:only-of-type {\n",
       "        vertical-align: middle;\n",
       "    }\n",
       "\n",
       "    .dataframe tbody tr th {\n",
       "        vertical-align: top;\n",
       "    }\n",
       "\n",
       "    .dataframe thead th {\n",
       "        text-align: right;\n",
       "    }\n",
       "</style>\n",
       "<table border=\"1\" class=\"dataframe\">\n",
       "  <thead>\n",
       "    <tr style=\"text-align: right;\">\n",
       "      <th></th>\n",
       "      <th>Country</th>\n",
       "      <th>Units</th>\n",
       "      <th>Scale</th>\n",
       "      <th>2019</th>\n",
       "      <th>2020</th>\n",
       "    </tr>\n",
       "  </thead>\n",
       "  <tbody>\n",
       "    <tr>\n",
       "      <td>0</td>\n",
       "      <td>Afghanistan</td>\n",
       "      <td>U.S. dollars</td>\n",
       "      <td>Billions</td>\n",
       "      <td>18.876</td>\n",
       "      <td>19.006</td>\n",
       "    </tr>\n",
       "    <tr>\n",
       "      <td>1</td>\n",
       "      <td>Albania</td>\n",
       "      <td>U.S. dollars</td>\n",
       "      <td>Billions</td>\n",
       "      <td>15.276</td>\n",
       "      <td>14.034</td>\n",
       "    </tr>\n",
       "    <tr>\n",
       "      <td>2</td>\n",
       "      <td>Algeria</td>\n",
       "      <td>U.S. dollars</td>\n",
       "      <td>Billions</td>\n",
       "      <td>169.267</td>\n",
       "      <td>147.323</td>\n",
       "    </tr>\n",
       "    <tr>\n",
       "      <td>3</td>\n",
       "      <td>Angola</td>\n",
       "      <td>U.S. dollars</td>\n",
       "      <td>Billions</td>\n",
       "      <td>89.417</td>\n",
       "      <td>62.724</td>\n",
       "    </tr>\n",
       "    <tr>\n",
       "      <td>4</td>\n",
       "      <td>Antigua and Barbuda</td>\n",
       "      <td>U.S. dollars</td>\n",
       "      <td>Billions</td>\n",
       "      <td>1.662</td>\n",
       "      <td>1.389</td>\n",
       "    </tr>\n",
       "  </tbody>\n",
       "</table>\n",
       "</div>"
      ],
      "text/plain": [
       "               Country         Units     Scale     2019     2020\n",
       "0          Afghanistan  U.S. dollars  Billions   18.876   19.006\n",
       "1              Albania  U.S. dollars  Billions   15.276   14.034\n",
       "2              Algeria  U.S. dollars  Billions  169.267  147.323\n",
       "3               Angola  U.S. dollars  Billions   89.417   62.724\n",
       "4  Antigua and Barbuda  U.S. dollars  Billions    1.662    1.389"
      ]
     },
     "execution_count": 4,
     "metadata": {},
     "output_type": "execute_result"
    }
   ],
   "source": [
    "GDP_country = GDP_country.drop(columns=['Subject Descriptor', 'Country/Series-specific Notes', 'Estimates Start After'])\n",
    "#Adding units to GDP data to make information clear.\n",
    "GDP_country = GDP_country[GDP_country['Units'] == \"U.S. dollars\"]\n",
    "pd.set_option('display.max_rows', GDP_country.shape[0]+1)\n",
    "GDP_country = GDP_country.reset_index(drop=True)\n",
    "#Coverting strings to integers\n",
    "GDP_country = GDP_country.replace(',','', regex=True)\n",
    "GDP_country['2019'] = pd.to_numeric(GDP_country['2019'])\n",
    "GDP_country['2020'] = pd.to_numeric(GDP_country['2020'])\n",
    "GDP_country.head()"
   ]
  },
  {
   "cell_type": "code",
   "execution_count": 5,
   "metadata": {},
   "outputs": [],
   "source": [
    "#Removing inconsistencies in naming of columns\n",
    "GDP_country = GDP_country.rename(columns={'country': 'Country'})\n",
    "GDP_countries = GDP_country['Country'].unique()\n",
    "GDP_countries.sort()\n",
    "\n",
    "covid_death_countries = covid_death['Country'].unique()\n",
    "covid_death_countries.sort()"
   ]
  },
  {
   "cell_type": "code",
   "execution_count": 6,
   "metadata": {},
   "outputs": [],
   "source": [
    "# Renaming the inconsistency in the country names\n",
    "GDP_country['Country'] = GDP_country['Country'].replace(['Brunei Darussalam'], 'Brunei')\n",
    "GDP_country['Country'] = GDP_country['Country'].replace(['Central African Republic'], 'CAR')\n",
    "GDP_country['Country'] = GDP_country['Country'].replace(['Czech Republic'], 'Czechia')\n",
    "GDP_country['Country'] = GDP_country['Country'].replace([\"Côte d\\'Ivoire\"], 'Ivory Coast')\n",
    "GDP_country['Country'] = GDP_country['Country'].replace(['Democratic Republic of the Congo'], 'DRC')\n",
    "GDP_country['Country'] = GDP_country['Country'].replace(['Hong Kong SAR'], 'Hong Kong')\n",
    "GDP_country['Country'] = GDP_country['Country'].replace(['Islamic Republic of Iran'], 'Iran')\n",
    "GDP_country['Country'] = GDP_country['Country'].replace(['Korea'], 'S. Korea')\n",
    "GDP_country['Country'] = GDP_country['Country'].replace(['Kyrgyz Republic'], 'Kyrgyzstan')\n",
    "GDP_country['Country'] = GDP_country['Country'].replace(['Lao P.D.R.'], 'Laos')\n",
    "GDP_country['Country'] = GDP_country['Country'].replace(['Macao SAR'], 'Macao')\n",
    "GDP_country['Country'] = GDP_country['Country'].replace(['Republic of Congo'], 'Congo')\n",
    "GDP_country['Country'] = GDP_country['Country'].replace(['Slovak Republic'], 'Slovakia')\n",
    "GDP_country['Country'] = GDP_country['Country'].replace(['St. Kitts and Nevis'], 'Saint Kitts and Nevis')\n",
    "GDP_country['Country'] = GDP_country['Country'].replace(['St. Lucia'], 'Saint Lucia')\n",
    "GDP_country['Country'] = GDP_country['Country'].replace(['St. Vincent and the Grenadines'], 'St. Vincent Grenadines')\n",
    "GDP_country['Country'] = GDP_country['Country'].replace(['São Tomé and Príncipe'], 'Sao Tome and Principe')\n",
    "GDP_country['Country'] = GDP_country['Country'].replace(['Taiwan Province of China'], 'Taiwan')\n",
    "GDP_country['Country'] = GDP_country['Country'].replace(['The Bahamas'], 'Bahamas')\n",
    "GDP_country['Country'] = GDP_country['Country'].replace(['The Gambia'], 'Gambia')\n",
    "GDP_country['Country'] = GDP_country['Country'].replace(['United Arab Emirates'], 'UAE')\n",
    "GDP_country['Country'] = GDP_country['Country'].replace(['United Kingdom'], 'UK')\n",
    "GDP_country['Country'] = GDP_country['Country'].replace(['United States'], 'USA')\n",
    "GDP_country['Country'] = GDP_country['Country'].replace(['West Bank and Gaza'], 'Palestine')"
   ]
  },
  {
   "cell_type": "code",
   "execution_count": 7,
   "metadata": {},
   "outputs": [],
   "source": [
    "# Match the corresponding countries \n",
    "combine = pd.merge(covid_death, GDP_country, on='Country')\n",
    "\n",
    "combine = combine.drop(columns = '2019')\n",
    "combine = combine.rename(columns={'2020': '2020 GDP'})\n",
    "\n",
    "combine['Recovery Percentage'] = combine['Total Recovered'] / combine['Total Cases']\n",
    "combine['Death Percentage'] = combine['Total Deaths'] / combine['Total Cases']\n",
    "combine['GDP per Capita'] = combine['2020 GDP'] / combine['Population'] * 1e9"
   ]
  },
  {
   "cell_type": "code",
   "execution_count": 8,
   "metadata": {},
   "outputs": [],
   "source": [
    "#2. add extra columns of infection rates per 100k and 200k \n",
    "\n",
    "#TotCases/ 1M pop\tDeaths/1M pop\n",
    "combine['TotCases_per_100k_pop'] = combine['TotCases/ 1M pop'] / 10\n",
    "combine['Deaths_per_100k_pop'] = combine['Deaths/1M pop'] / 10\n",
    "combine['log_TotCases_per_1M_pop'] = np.log( combine['TotCases/ 1M pop'])\n",
    "combine['sqrt_TotCases_per_1M_pop'] = np.sqrt(combine['TotCases/ 1M pop'])"
   ]
  },
  {
   "cell_type": "markdown",
   "metadata": {},
   "source": [
    "# Data Analysis & Results"
   ]
  },
  {
   "cell_type": "code",
   "execution_count": 9,
   "metadata": {},
   "outputs": [
    {
     "data": {
      "text/html": [
       "<div>\n",
       "<style scoped>\n",
       "    .dataframe tbody tr th:only-of-type {\n",
       "        vertical-align: middle;\n",
       "    }\n",
       "\n",
       "    .dataframe tbody tr th {\n",
       "        vertical-align: top;\n",
       "    }\n",
       "\n",
       "    .dataframe thead th {\n",
       "        text-align: right;\n",
       "    }\n",
       "</style>\n",
       "<table border=\"1\" class=\"dataframe\">\n",
       "  <thead>\n",
       "    <tr style=\"text-align: right;\">\n",
       "      <th></th>\n",
       "      <th>Country</th>\n",
       "      <th>Total Cases</th>\n",
       "      <th>Total Deaths</th>\n",
       "      <th>Total Recovered</th>\n",
       "      <th>TotCases/ 1M pop</th>\n",
       "      <th>Deaths/1M pop</th>\n",
       "      <th>Population</th>\n",
       "      <th>Units</th>\n",
       "      <th>Scale</th>\n",
       "      <th>2020 GDP</th>\n",
       "      <th>Recovery Percentage</th>\n",
       "      <th>Death Percentage</th>\n",
       "      <th>GDP per Capita</th>\n",
       "      <th>TotCases_per_100k_pop</th>\n",
       "      <th>Deaths_per_100k_pop</th>\n",
       "      <th>log_TotCases_per_1M_pop</th>\n",
       "      <th>sqrt_TotCases_per_1M_pop</th>\n",
       "    </tr>\n",
       "  </thead>\n",
       "  <tbody>\n",
       "    <tr>\n",
       "      <td>0</td>\n",
       "      <td>USA</td>\n",
       "      <td>28010156</td>\n",
       "      <td>487171.0</td>\n",
       "      <td>17932117.0</td>\n",
       "      <td>84318.0</td>\n",
       "      <td>1467.0</td>\n",
       "      <td>3.321986e+08</td>\n",
       "      <td>U.S. dollars</td>\n",
       "      <td>Billions</td>\n",
       "      <td>20807.27</td>\n",
       "      <td>0.640201</td>\n",
       "      <td>0.017393</td>\n",
       "      <td>62635.037833</td>\n",
       "      <td>8431.8</td>\n",
       "      <td>146.7</td>\n",
       "      <td>11.342351</td>\n",
       "      <td>290.375619</td>\n",
       "    </tr>\n",
       "    <tr>\n",
       "      <td>1</td>\n",
       "      <td>India</td>\n",
       "      <td>10880794</td>\n",
       "      <td>155489.0</td>\n",
       "      <td>10589230.0</td>\n",
       "      <td>7837.0</td>\n",
       "      <td>112.0</td>\n",
       "      <td>1.388346e+09</td>\n",
       "      <td>U.S. dollars</td>\n",
       "      <td>Billions</td>\n",
       "      <td>2592.58</td>\n",
       "      <td>0.973204</td>\n",
       "      <td>0.014290</td>\n",
       "      <td>1867.388044</td>\n",
       "      <td>783.7</td>\n",
       "      <td>11.2</td>\n",
       "      <td>8.966611</td>\n",
       "      <td>88.526832</td>\n",
       "    </tr>\n",
       "    <tr>\n",
       "      <td>2</td>\n",
       "      <td>Brazil</td>\n",
       "      <td>9716298</td>\n",
       "      <td>236397.0</td>\n",
       "      <td>8643693.0</td>\n",
       "      <td>45512.0</td>\n",
       "      <td>1107.0</td>\n",
       "      <td>2.134898e+08</td>\n",
       "      <td>U.S. dollars</td>\n",
       "      <td>Billions</td>\n",
       "      <td>1363.77</td>\n",
       "      <td>0.889608</td>\n",
       "      <td>0.024330</td>\n",
       "      <td>6387.988182</td>\n",
       "      <td>4551.2</td>\n",
       "      <td>110.7</td>\n",
       "      <td>10.725731</td>\n",
       "      <td>213.335417</td>\n",
       "    </tr>\n",
       "    <tr>\n",
       "      <td>3</td>\n",
       "      <td>Russia</td>\n",
       "      <td>4042837</td>\n",
       "      <td>79194.0</td>\n",
       "      <td>3559142.0</td>\n",
       "      <td>27696.0</td>\n",
       "      <td>543.0</td>\n",
       "      <td>1.459731e+08</td>\n",
       "      <td>U.S. dollars</td>\n",
       "      <td>Billions</td>\n",
       "      <td>1464.08</td>\n",
       "      <td>0.880358</td>\n",
       "      <td>0.019589</td>\n",
       "      <td>10029.791237</td>\n",
       "      <td>2769.6</td>\n",
       "      <td>54.3</td>\n",
       "      <td>10.229043</td>\n",
       "      <td>166.421153</td>\n",
       "    </tr>\n",
       "    <tr>\n",
       "      <td>4</td>\n",
       "      <td>UK</td>\n",
       "      <td>3998655</td>\n",
       "      <td>115529.0</td>\n",
       "      <td>2056261.0</td>\n",
       "      <td>58712.0</td>\n",
       "      <td>1696.0</td>\n",
       "      <td>6.810580e+07</td>\n",
       "      <td>U.S. dollars</td>\n",
       "      <td>Billions</td>\n",
       "      <td>2638.30</td>\n",
       "      <td>0.514238</td>\n",
       "      <td>0.028892</td>\n",
       "      <td>38738.256103</td>\n",
       "      <td>5871.2</td>\n",
       "      <td>169.6</td>\n",
       "      <td>10.980399</td>\n",
       "      <td>242.305592</td>\n",
       "    </tr>\n",
       "  </tbody>\n",
       "</table>\n",
       "</div>"
      ],
      "text/plain": [
       "  Country  Total Cases  Total Deaths  Total Recovered  TotCases/ 1M pop  \\\n",
       "0     USA     28010156      487171.0       17932117.0           84318.0   \n",
       "1   India     10880794      155489.0       10589230.0            7837.0   \n",
       "2  Brazil      9716298      236397.0        8643693.0           45512.0   \n",
       "3  Russia      4042837       79194.0        3559142.0           27696.0   \n",
       "4      UK      3998655      115529.0        2056261.0           58712.0   \n",
       "\n",
       "   Deaths/1M pop    Population         Units     Scale  2020 GDP  \\\n",
       "0         1467.0  3.321986e+08  U.S. dollars  Billions  20807.27   \n",
       "1          112.0  1.388346e+09  U.S. dollars  Billions   2592.58   \n",
       "2         1107.0  2.134898e+08  U.S. dollars  Billions   1363.77   \n",
       "3          543.0  1.459731e+08  U.S. dollars  Billions   1464.08   \n",
       "4         1696.0  6.810580e+07  U.S. dollars  Billions   2638.30   \n",
       "\n",
       "   Recovery Percentage  Death Percentage  GDP per Capita  \\\n",
       "0             0.640201          0.017393    62635.037833   \n",
       "1             0.973204          0.014290     1867.388044   \n",
       "2             0.889608          0.024330     6387.988182   \n",
       "3             0.880358          0.019589    10029.791237   \n",
       "4             0.514238          0.028892    38738.256103   \n",
       "\n",
       "   TotCases_per_100k_pop  Deaths_per_100k_pop  log_TotCases_per_1M_pop  \\\n",
       "0                 8431.8                146.7                11.342351   \n",
       "1                  783.7                 11.2                 8.966611   \n",
       "2                 4551.2                110.7                10.725731   \n",
       "3                 2769.6                 54.3                10.229043   \n",
       "4                 5871.2                169.6                10.980399   \n",
       "\n",
       "   sqrt_TotCases_per_1M_pop  \n",
       "0                290.375619  \n",
       "1                 88.526832  \n",
       "2                213.335417  \n",
       "3                166.421153  \n",
       "4                242.305592  "
      ]
     },
     "execution_count": 9,
     "metadata": {},
     "output_type": "execute_result"
    }
   ],
   "source": [
    "combine.head()"
   ]
  },
  {
   "cell_type": "markdown",
   "metadata": {},
   "source": [
    "Include cells that describe the steps in your data analysis."
   ]
  },
  {
   "cell_type": "code",
   "execution_count": 10,
   "metadata": {},
   "outputs": [
    {
     "data": {
      "text/html": [
       "<div>\n",
       "<style scoped>\n",
       "    .dataframe tbody tr th:only-of-type {\n",
       "        vertical-align: middle;\n",
       "    }\n",
       "\n",
       "    .dataframe tbody tr th {\n",
       "        vertical-align: top;\n",
       "    }\n",
       "\n",
       "    .dataframe thead th {\n",
       "        text-align: right;\n",
       "    }\n",
       "</style>\n",
       "<table border=\"1\" class=\"dataframe\">\n",
       "  <thead>\n",
       "    <tr style=\"text-align: right;\">\n",
       "      <th></th>\n",
       "      <th>Total Cases</th>\n",
       "      <th>Total Deaths</th>\n",
       "      <th>Total Recovered</th>\n",
       "      <th>TotCases/ 1M pop</th>\n",
       "      <th>Deaths/1M pop</th>\n",
       "      <th>Population</th>\n",
       "      <th>2020 GDP</th>\n",
       "      <th>Recovery Percentage</th>\n",
       "      <th>Death Percentage</th>\n",
       "      <th>GDP per Capita</th>\n",
       "      <th>TotCases_per_100k_pop</th>\n",
       "      <th>Deaths_per_100k_pop</th>\n",
       "      <th>log_TotCases_per_1M_pop</th>\n",
       "      <th>sqrt_TotCases_per_1M_pop</th>\n",
       "    </tr>\n",
       "  </thead>\n",
       "  <tbody>\n",
       "    <tr>\n",
       "      <td>count</td>\n",
       "      <td>1.870000e+02</td>\n",
       "      <td>176.000000</td>\n",
       "      <td>1.840000e+02</td>\n",
       "      <td>187.000000</td>\n",
       "      <td>176.000000</td>\n",
       "      <td>1.870000e+02</td>\n",
       "      <td>185.000000</td>\n",
       "      <td>184.000000</td>\n",
       "      <td>176.000000</td>\n",
       "      <td>185.000000</td>\n",
       "      <td>187.000000</td>\n",
       "      <td>176.000000</td>\n",
       "      <td>187.000000</td>\n",
       "      <td>187.000000</td>\n",
       "    </tr>\n",
       "    <tr>\n",
       "      <td>mean</td>\n",
       "      <td>5.789856e+05</td>\n",
       "      <td>13524.505682</td>\n",
       "      <td>4.363635e+05</td>\n",
       "      <td>20080.272727</td>\n",
       "      <td>399.169886</td>\n",
       "      <td>4.165806e+07</td>\n",
       "      <td>449.028486</td>\n",
       "      <td>0.828008</td>\n",
       "      <td>0.021446</td>\n",
       "      <td>13416.800734</td>\n",
       "      <td>2008.027273</td>\n",
       "      <td>39.916989</td>\n",
       "      <td>8.482276</td>\n",
       "      <td>111.789248</td>\n",
       "    </tr>\n",
       "    <tr>\n",
       "      <td>std</td>\n",
       "      <td>2.366707e+06</td>\n",
       "      <td>46573.355609</td>\n",
       "      <td>1.703491e+06</td>\n",
       "      <td>24531.287276</td>\n",
       "      <td>505.037987</td>\n",
       "      <td>1.509363e+08</td>\n",
       "      <td>1950.741054</td>\n",
       "      <td>0.187563</td>\n",
       "      <td>0.024280</td>\n",
       "      <td>18491.157593</td>\n",
       "      <td>2453.128728</td>\n",
       "      <td>50.503799</td>\n",
       "      <td>2.324829</td>\n",
       "      <td>87.316711</td>\n",
       "    </tr>\n",
       "    <tr>\n",
       "      <td>min</td>\n",
       "      <td>1.000000e+00</td>\n",
       "      <td>1.000000</td>\n",
       "      <td>1.000000e+00</td>\n",
       "      <td>3.000000</td>\n",
       "      <td>0.200000</td>\n",
       "      <td>3.397500e+04</td>\n",
       "      <td>0.225000</td>\n",
       "      <td>0.063932</td>\n",
       "      <td>0.000485</td>\n",
       "      <td>258.634519</td>\n",
       "      <td>0.300000</td>\n",
       "      <td>0.020000</td>\n",
       "      <td>1.098612</td>\n",
       "      <td>1.732051</td>\n",
       "    </tr>\n",
       "    <tr>\n",
       "      <td>25%</td>\n",
       "      <td>6.190000e+03</td>\n",
       "      <td>142.500000</td>\n",
       "      <td>4.861000e+03</td>\n",
       "      <td>1132.500000</td>\n",
       "      <td>21.750000</td>\n",
       "      <td>2.419295e+06</td>\n",
       "      <td>10.252000</td>\n",
       "      <td>0.795961</td>\n",
       "      <td>0.011018</td>\n",
       "      <td>1867.388044</td>\n",
       "      <td>113.250000</td>\n",
       "      <td>2.175000</td>\n",
       "      <td>7.032161</td>\n",
       "      <td>33.652453</td>\n",
       "    </tr>\n",
       "    <tr>\n",
       "      <td>50%</td>\n",
       "      <td>5.977700e+04</td>\n",
       "      <td>976.500000</td>\n",
       "      <td>4.490800e+04</td>\n",
       "      <td>9136.000000</td>\n",
       "      <td>119.000000</td>\n",
       "      <td>9.447402e+06</td>\n",
       "      <td>34.624000</td>\n",
       "      <td>0.899102</td>\n",
       "      <td>0.017329</td>\n",
       "      <td>4791.964803</td>\n",
       "      <td>913.600000</td>\n",
       "      <td>11.900000</td>\n",
       "      <td>9.119978</td>\n",
       "      <td>95.582425</td>\n",
       "    </tr>\n",
       "    <tr>\n",
       "      <td>75%</td>\n",
       "      <td>2.634390e+05</td>\n",
       "      <td>5805.500000</td>\n",
       "      <td>1.982050e+05</td>\n",
       "      <td>33945.000000</td>\n",
       "      <td>639.000000</td>\n",
       "      <td>3.084800e+07</td>\n",
       "      <td>241.975000</td>\n",
       "      <td>0.942329</td>\n",
       "      <td>0.025676</td>\n",
       "      <td>16301.398065</td>\n",
       "      <td>3394.500000</td>\n",
       "      <td>63.900000</td>\n",
       "      <td>10.432398</td>\n",
       "      <td>184.237141</td>\n",
       "    </tr>\n",
       "    <tr>\n",
       "      <td>max</td>\n",
       "      <td>2.801016e+07</td>\n",
       "      <td>487171.000000</td>\n",
       "      <td>1.793212e+07</td>\n",
       "      <td>107370.000000</td>\n",
       "      <td>2119.000000</td>\n",
       "      <td>1.439324e+09</td>\n",
       "      <td>20807.270000</td>\n",
       "      <td>1.000000</td>\n",
       "      <td>0.288660</td>\n",
       "      <td>108527.781644</td>\n",
       "      <td>10737.000000</td>\n",
       "      <td>211.900000</td>\n",
       "      <td>11.584036</td>\n",
       "      <td>327.673618</td>\n",
       "    </tr>\n",
       "  </tbody>\n",
       "</table>\n",
       "</div>"
      ],
      "text/plain": [
       "        Total Cases   Total Deaths  Total Recovered  TotCases/ 1M pop  \\\n",
       "count  1.870000e+02     176.000000     1.840000e+02        187.000000   \n",
       "mean   5.789856e+05   13524.505682     4.363635e+05      20080.272727   \n",
       "std    2.366707e+06   46573.355609     1.703491e+06      24531.287276   \n",
       "min    1.000000e+00       1.000000     1.000000e+00          3.000000   \n",
       "25%    6.190000e+03     142.500000     4.861000e+03       1132.500000   \n",
       "50%    5.977700e+04     976.500000     4.490800e+04       9136.000000   \n",
       "75%    2.634390e+05    5805.500000     1.982050e+05      33945.000000   \n",
       "max    2.801016e+07  487171.000000     1.793212e+07     107370.000000   \n",
       "\n",
       "       Deaths/1M pop    Population      2020 GDP  Recovery Percentage  \\\n",
       "count     176.000000  1.870000e+02    185.000000           184.000000   \n",
       "mean      399.169886  4.165806e+07    449.028486             0.828008   \n",
       "std       505.037987  1.509363e+08   1950.741054             0.187563   \n",
       "min         0.200000  3.397500e+04      0.225000             0.063932   \n",
       "25%        21.750000  2.419295e+06     10.252000             0.795961   \n",
       "50%       119.000000  9.447402e+06     34.624000             0.899102   \n",
       "75%       639.000000  3.084800e+07    241.975000             0.942329   \n",
       "max      2119.000000  1.439324e+09  20807.270000             1.000000   \n",
       "\n",
       "       Death Percentage  GDP per Capita  TotCases_per_100k_pop  \\\n",
       "count        176.000000      185.000000             187.000000   \n",
       "mean           0.021446    13416.800734            2008.027273   \n",
       "std            0.024280    18491.157593            2453.128728   \n",
       "min            0.000485      258.634519               0.300000   \n",
       "25%            0.011018     1867.388044             113.250000   \n",
       "50%            0.017329     4791.964803             913.600000   \n",
       "75%            0.025676    16301.398065            3394.500000   \n",
       "max            0.288660   108527.781644           10737.000000   \n",
       "\n",
       "       Deaths_per_100k_pop  log_TotCases_per_1M_pop  sqrt_TotCases_per_1M_pop  \n",
       "count           176.000000               187.000000                187.000000  \n",
       "mean             39.916989                 8.482276                111.789248  \n",
       "std              50.503799                 2.324829                 87.316711  \n",
       "min               0.020000                 1.098612                  1.732051  \n",
       "25%               2.175000                 7.032161                 33.652453  \n",
       "50%              11.900000                 9.119978                 95.582425  \n",
       "75%              63.900000                10.432398                184.237141  \n",
       "max             211.900000                11.584036                327.673618  "
      ]
     },
     "execution_count": 10,
     "metadata": {},
     "output_type": "execute_result"
    }
   ],
   "source": [
    "combine.describe()"
   ]
  },
  {
   "cell_type": "code",
   "execution_count": 11,
   "metadata": {
    "scrolled": false
   },
   "outputs": [
    {
     "data": {
      "image/png": "[encoded data removed]",
      "text/plain": [
       "<Figure size 432x288 with 1 Axes>"
      ]
     },
     "metadata": {
      "needs_background": "light"
     },
     "output_type": "display_data"
    }
   ],
   "source": [
    "f1 = combine.hist(column = 'TotCases_per_100k_pop', bins = 10)    "
   ]
  },
  {
   "cell_type": "markdown",
   "metadata": {},
   "source": [
    "We plotted a histogram of the total cases per 100k population to visualize how this variable is distributed.\n",
    "\n",
    "The distribution for this variable doesn't seem to fit any of the common distributions, but the data was highly skewed to the right.\n",
    "\n",
    "We observed that for many countries, the number of cases per 100k people remained on the low end."
   ]
  },
  {
   "cell_type": "code",
   "execution_count": 12,
   "metadata": {},
   "outputs": [
    {
     "data": {
      "image/png": "[encoded data removed]",
      "text/plain": [
       "<Figure size 432x288 with 1 Axes>"
      ]
     },
     "metadata": {
      "needs_background": "light"
     },
     "output_type": "display_data"
    },
    {
     "data": {
      "image/png": "[encoded data removed]",
      "text/plain": [
       "<Figure size 432x288 with 1 Axes>"
      ]
     },
     "metadata": {
      "needs_background": "light"
     },
     "output_type": "display_data"
    }
   ],
   "source": [
    "# log transformed data\n",
    "f2 = combine.hist(column = 'sqrt_TotCases_per_1M_pop', bins = 10)   \n",
    "f3 = combine.hist(column = 'TotCases_per_100k_pop', bins = 10)  "
   ]
  },
  {
   "cell_type": "markdown",
   "metadata": {},
   "source": [
    "From the previous histogram, we observe that the shape of the distribution is strongly skewed to the right. This hard for us the visualized the detail.\n",
    "\n",
    "Thus, we decide to tranform the value to a smaller scale. In the above graphs, we tried to transform the original data with taking the square root \n",
    "\n",
    "and dividing by 10.\n",
    "\n",
    "We oberseve that taking the square root makes the data more cluster in a way that is convenient for us to visualize.\n",
    "\n"
   ]
  },
  {
   "cell_type": "markdown",
   "metadata": {},
   "source": [
    "# GDP Data Part 1\n",
    "we perform our analysis of the countries economic status based on the GDP."
   ]
  },
  {
   "cell_type": "markdown",
   "metadata": {},
   "source": [
    "we here display the central property of the GDP per capita data "
   ]
  },
  {
   "cell_type": "code",
   "execution_count": 13,
   "metadata": {},
   "outputs": [
    {
     "data": {
      "text/plain": [
       "count       185.000000\n",
       "mean      13416.800734\n",
       "std       18491.157593\n",
       "min         258.634519\n",
       "25%        1867.388044\n",
       "50%        4791.964803\n",
       "75%       16301.398065\n",
       "max      108527.781644\n",
       "Name: GDP per Capita, dtype: float64"
      ]
     },
     "execution_count": 13,
     "metadata": {},
     "output_type": "execute_result"
    }
   ],
   "source": [
    "combine['GDP per Capita'].describe()"
   ]
  },
  {
   "cell_type": "code",
   "execution_count": 14,
   "metadata": {},
   "outputs": [
    {
     "data": {
      "text/plain": [
       "<matplotlib.axes._subplots.AxesSubplot at 0x1c25d7a050>"
      ]
     },
     "execution_count": 14,
     "metadata": {},
     "output_type": "execute_result"
    },
    {
     "data": {
      "image/png": "[encoded data removed]",
      "text/plain": [
       "<Figure size 432x288 with 1 Axes>"
      ]
     },
     "metadata": {
      "needs_background": "light"
     },
     "output_type": "display_data"
    }
   ],
   "source": [
    "sns.boxplot(x='GDP per Capita', data=combine)"
   ]
  },
  {
   "cell_type": "code",
   "execution_count": 15,
   "metadata": {},
   "outputs": [
    {
     "data": {
      "text/plain": [
       "array([[<matplotlib.axes._subplots.AxesSubplot object at 0x1c25da9150>]],\n",
       "      dtype=object)"
      ]
     },
     "execution_count": 15,
     "metadata": {},
     "output_type": "execute_result"
    },
    {
     "data": {
      "image/png": "[encoded data removed]",
      "text/plain": [
       "<Figure size 432x288 with 1 Axes>"
      ]
     },
     "metadata": {
      "needs_background": "light"
     },
     "output_type": "display_data"
    }
   ],
   "source": [
    "combine.hist(column = 'GDP per Capita')"
   ]
  },
  {
   "cell_type": "markdown",
   "metadata": {},
   "source": [
    "We then plotted a histogram of the GDP per capita of all the countries. \n",
    "\n",
    "Again, the distribution for this variable doesn't seem to fit any of the common distributions, but the data was highly skewed to the right. \n",
    "\n",
    "We observed that for the vast majority of countries, GDP per capita was low ( < 20000 USD per year)\n",
    "\n",
    "This prompted us to divide the countries based on their GDP per capita into two groups- developing and developed. \n",
    "\n",
    "Note that 20,000 USD per year is just an arbitrary sum that we collectively chose and is not a typical measure for whether a country is categorized as developed or developing. In this case though, countries whose citizens earn, on average, more than 20,000 USD per year is considered developed."
   ]
  },
  {
   "cell_type": "markdown",
   "metadata": {},
   "source": [
    "# GDP Data Part 2"
   ]
  },
  {
   "cell_type": "markdown",
   "metadata": {},
   "source": [
    "We look at the statistc of GDP per capita and found that most of the data are highly clustered from 0 to 75 percentile. Thus we decide to break up\n",
    "\n",
    "the data into two parts with 75 percentile as the threshold to minimize the imbalance of data.\n",
    "\n",
    "We labeled them as combine_developing and combine_developed "
   ]
  },
  {
   "cell_type": "code",
   "execution_count": 16,
   "metadata": {},
   "outputs": [],
   "source": [
    "combine_developing = combine[combine['GDP per Capita'] < 16301.398065]\n",
    "combine_developed = combine[combine['GDP per Capita'] >= 16301.398065]"
   ]
  },
  {
   "cell_type": "code",
   "execution_count": 17,
   "metadata": {
    "scrolled": true
   },
   "outputs": [
    {
     "data": {
      "text/plain": [
       "array([[<matplotlib.axes._subplots.AxesSubplot object at 0x1c26057390>]],\n",
       "      dtype=object)"
      ]
     },
     "execution_count": 17,
     "metadata": {},
     "output_type": "execute_result"
    },
    {
     "data": {
      "image/png": "[encoded data removed]",
      "text/plain": [
       "<Figure size 432x288 with 1 Axes>"
      ]
     },
     "metadata": {
      "needs_background": "light"
     },
     "output_type": "display_data"
    }
   ],
   "source": [
    "combine_developing.hist(column = 'GDP per Capita')"
   ]
  },
  {
   "cell_type": "markdown",
   "metadata": {},
   "source": [
    "We then plotted a histogram of the GDP per capita of all the developing countries.\n",
    "\n",
    "Again, the distribution for the variables doesn't seem to fit any of the common distributions, but the data was highly skewed to the right. \n",
    "\n",
    "We surprisingly observed that for the vast majority of developing countries, GDP per capita was much lower than we initially expected, (< 5,000 USD per year)"
   ]
  },
  {
   "cell_type": "code",
   "execution_count": 18,
   "metadata": {},
   "outputs": [
    {
     "data": {
      "text/plain": [
       "array([[<matplotlib.axes._subplots.AxesSubplot object at 0x1c25dda590>]],\n",
       "      dtype=object)"
      ]
     },
     "execution_count": 18,
     "metadata": {},
     "output_type": "execute_result"
    },
    {
     "data": {
      "image/png": "[encoded data removed]",
      "text/plain": [
       "<Figure size 432x288 with 1 Axes>"
      ]
     },
     "metadata": {
      "needs_background": "light"
     },
     "output_type": "display_data"
    }
   ],
   "source": [
    "combine_developed.hist(column = 'GDP per Capita')"
   ]
  },
  {
   "cell_type": "markdown",
   "metadata": {},
   "source": [
    "We then plotted a histogram of the GDP per capita of all the developed countries.\n",
    "\n",
    "Again, the distribution for the variables doesn't seem to fit any of the common distributions, but the data was skewed to the right.\n",
    "\n",
    "We observed that there is a country with a super high GDP, upon investigating, this turned out to be a tax haven for the wealthy."
   ]
  },
  {
   "cell_type": "markdown",
   "metadata": {},
   "source": [
    "# Comparing with death percentage"
   ]
  },
  {
   "cell_type": "code",
   "execution_count": 19,
   "metadata": {
    "scrolled": true
   },
   "outputs": [
    {
     "data": {
      "text/plain": [
       "count    176.000000\n",
       "mean       0.021446\n",
       "std        0.024280\n",
       "min        0.000485\n",
       "25%        0.011018\n",
       "50%        0.017329\n",
       "75%        0.025676\n",
       "max        0.288660\n",
       "Name: Death Percentage, dtype: float64"
      ]
     },
     "execution_count": 19,
     "metadata": {},
     "output_type": "execute_result"
    }
   ],
   "source": [
    "combine['Death Percentage'].describe()"
   ]
  },
  {
   "cell_type": "code",
   "execution_count": 20,
   "metadata": {},
   "outputs": [
    {
     "data": {
      "text/plain": [
       "<matplotlib.axes._subplots.AxesSubplot at 0x1c26290ad0>"
      ]
     },
     "execution_count": 20,
     "metadata": {},
     "output_type": "execute_result"
    },
    {
     "data": {
      "image/png": "[encoded data removed]",
      "text/plain": [
       "<Figure size 432x288 with 1 Axes>"
      ]
     },
     "metadata": {
      "needs_background": "light"
     },
     "output_type": "display_data"
    }
   ],
   "source": [
    "sns.boxplot(x='Death Percentage', data=combine)"
   ]
  },
  {
   "cell_type": "code",
   "execution_count": 21,
   "metadata": {
    "scrolled": false
   },
   "outputs": [
    {
     "data": {
      "text/html": [
       "<div>\n",
       "<style scoped>\n",
       "    .dataframe tbody tr th:only-of-type {\n",
       "        vertical-align: middle;\n",
       "    }\n",
       "\n",
       "    .dataframe tbody tr th {\n",
       "        vertical-align: top;\n",
       "    }\n",
       "\n",
       "    .dataframe thead th {\n",
       "        text-align: right;\n",
       "    }\n",
       "</style>\n",
       "<table border=\"1\" class=\"dataframe\">\n",
       "  <thead>\n",
       "    <tr style=\"text-align: right;\">\n",
       "      <th></th>\n",
       "      <th>Country</th>\n",
       "      <th>Total Cases</th>\n",
       "      <th>Total Deaths</th>\n",
       "      <th>Total Recovered</th>\n",
       "      <th>TotCases/ 1M pop</th>\n",
       "      <th>Deaths/1M pop</th>\n",
       "      <th>Population</th>\n",
       "      <th>Units</th>\n",
       "      <th>Scale</th>\n",
       "      <th>2020 GDP</th>\n",
       "      <th>Recovery Percentage</th>\n",
       "      <th>Death Percentage</th>\n",
       "      <th>GDP per Capita</th>\n",
       "      <th>TotCases_per_100k_pop</th>\n",
       "      <th>Deaths_per_100k_pop</th>\n",
       "      <th>log_TotCases_per_1M_pop</th>\n",
       "      <th>sqrt_TotCases_per_1M_pop</th>\n",
       "    </tr>\n",
       "  </thead>\n",
       "  <tbody>\n",
       "    <tr>\n",
       "      <td>160</td>\n",
       "      <td>Yemen</td>\n",
       "      <td>2134</td>\n",
       "      <td>616.0</td>\n",
       "      <td>1428.0</td>\n",
       "      <td>71.0</td>\n",
       "      <td>20.0</td>\n",
       "      <td>30226897.0</td>\n",
       "      <td>U.S. dollars</td>\n",
       "      <td>Billions</td>\n",
       "      <td>20.948</td>\n",
       "      <td>0.669166</td>\n",
       "      <td>0.28866</td>\n",
       "      <td>693.025156</td>\n",
       "      <td>7.1</td>\n",
       "      <td>2.0</td>\n",
       "      <td>4.26268</td>\n",
       "      <td>8.42615</td>\n",
       "    </tr>\n",
       "  </tbody>\n",
       "</table>\n",
       "</div>"
      ],
      "text/plain": [
       "    Country  Total Cases  Total Deaths  Total Recovered  TotCases/ 1M pop  \\\n",
       "160   Yemen         2134         616.0           1428.0              71.0   \n",
       "\n",
       "     Deaths/1M pop  Population         Units     Scale  2020 GDP  \\\n",
       "160           20.0  30226897.0  U.S. dollars  Billions    20.948   \n",
       "\n",
       "     Recovery Percentage  Death Percentage  GDP per Capita  \\\n",
       "160             0.669166           0.28866      693.025156   \n",
       "\n",
       "     TotCases_per_100k_pop  Deaths_per_100k_pop  log_TotCases_per_1M_pop  \\\n",
       "160                    7.1                  2.0                  4.26268   \n",
       "\n",
       "     sqrt_TotCases_per_1M_pop  \n",
       "160                   8.42615  "
      ]
     },
     "execution_count": 21,
     "metadata": {},
     "output_type": "execute_result"
    }
   ],
   "source": [
    "death_percentage_outlier = combine[combine['Death Percentage'] > 0.25]\n",
    "death_percentage_outlier.head()"
   ]
  },
  {
   "cell_type": "markdown",
   "metadata": {},
   "source": [
    "Yemen is the country which has the highest death percentage. Since the data is the outlier, we normaly want to exclude it to check the normality of the distribution for the overall countries"
   ]
  },
  {
   "cell_type": "code",
   "execution_count": 22,
   "metadata": {},
   "outputs": [
    {
     "data": {
      "text/plain": [
       "count    175.000000\n",
       "mean       0.019919\n",
       "std        0.013423\n",
       "min        0.000485\n",
       "25%        0.010947\n",
       "50%        0.017265\n",
       "75%        0.025538\n",
       "max        0.086984\n",
       "Name: Death Percentage, dtype: float64"
      ]
     },
     "execution_count": 22,
     "metadata": {},
     "output_type": "execute_result"
    }
   ],
   "source": [
    "combine = combine[combine['Death Percentage'] <= 0.25]\n",
    "combine['Death Percentage'].describe()"
   ]
  },
  {
   "cell_type": "code",
   "execution_count": 23,
   "metadata": {},
   "outputs": [
    {
     "data": {
      "text/plain": [
       "<matplotlib.axes._subplots.AxesSubplot at 0x1c2548fc50>"
      ]
     },
     "execution_count": 23,
     "metadata": {},
     "output_type": "execute_result"
    },
    {
     "data": {
      "image/png": "[encoded data removed]",
      "text/plain": [
       "<Figure size 432x288 with 1 Axes>"
      ]
     },
     "metadata": {
      "needs_background": "light"
     },
     "output_type": "display_data"
    }
   ],
   "source": [
    "sns.boxplot(x='Death Percentage', data=combine)"
   ]
  },
  {
   "cell_type": "markdown",
   "metadata": {},
   "source": [
    "For almost all countries:\n",
    "- The average death percentage is about 2.00%\n",
    "- The median death percentage is about 1.73%\n",
    "- The maximum death percentage is about 8.70%"
   ]
  },
  {
   "cell_type": "code",
   "execution_count": 24,
   "metadata": {},
   "outputs": [
    {
     "data": {
      "text/plain": [
       "count    128.000000\n",
       "mean       0.020757\n",
       "std        0.014139\n",
       "min        0.000890\n",
       "25%        0.011221\n",
       "50%        0.016889\n",
       "75%        0.026704\n",
       "max        0.086984\n",
       "Name: Death Percentage, dtype: float64"
      ]
     },
     "execution_count": 24,
     "metadata": {},
     "output_type": "execute_result"
    }
   ],
   "source": [
    "combine_developing = combine_developing[combine_developing['Death Percentage'] <= 0.25]\n",
    "combine_developing['Death Percentage'].describe()"
   ]
  },
  {
   "cell_type": "code",
   "execution_count": 25,
   "metadata": {},
   "outputs": [
    {
     "data": {
      "text/plain": [
       "<matplotlib.axes._subplots.AxesSubplot at 0x1c26355f90>"
      ]
     },
     "execution_count": 25,
     "metadata": {},
     "output_type": "execute_result"
    },
    {
     "data": {
      "image/png": "[encoded data removed]",
      "text/plain": [
       "<Figure size 432x288 with 1 Axes>"
      ]
     },
     "metadata": {
      "needs_background": "light"
     },
     "output_type": "display_data"
    }
   ],
   "source": [
    "sns.boxplot(x='Death Percentage', data=combine_developing)"
   ]
  },
  {
   "cell_type": "markdown",
   "metadata": {},
   "source": [
    "For the developing countries: \n",
    "- The average death percentage is about 2.08%\n",
    "- The median death percentage is about 1.70%\n",
    "- The maximum death percentage is about 8.70%"
   ]
  },
  {
   "cell_type": "code",
   "execution_count": 26,
   "metadata": {},
   "outputs": [
    {
     "data": {
      "text/plain": [
       "count    45.000000\n",
       "mean      0.016477\n",
       "std       0.008580\n",
       "min       0.000485\n",
       "25%       0.009605\n",
       "50%       0.017265\n",
       "75%       0.020931\n",
       "max       0.035861\n",
       "Name: Death Percentage, dtype: float64"
      ]
     },
     "execution_count": 26,
     "metadata": {},
     "output_type": "execute_result"
    }
   ],
   "source": [
    "combine_developed['Death Percentage'].describe()"
   ]
  },
  {
   "cell_type": "code",
   "execution_count": 27,
   "metadata": {},
   "outputs": [
    {
     "data": {
      "text/plain": [
       "<matplotlib.axes._subplots.AxesSubplot at 0x1c2645c410>"
      ]
     },
     "execution_count": 27,
     "metadata": {},
     "output_type": "execute_result"
    },
    {
     "data": {
      "image/png": "[encoded data removed]",
      "text/plain": [
       "<Figure size 432x288 with 1 Axes>"
      ]
     },
     "metadata": {
      "needs_background": "light"
     },
     "output_type": "display_data"
    }
   ],
   "source": [
    "sns.boxplot(x='Death Percentage', data=combine_developed)"
   ]
  },
  {
   "cell_type": "markdown",
   "metadata": {},
   "source": [
    "For the developed countries: \n",
    "- The average death percentage is about 1.65%\n",
    "- The median death percentage is about 1.73%\n",
    "- The maximum death percentage is about 3.59%"
   ]
  },
  {
   "cell_type": "markdown",
   "metadata": {},
   "source": [
    "# Comparing with Recovery Percentage"
   ]
  },
  {
   "cell_type": "code",
   "execution_count": 28,
   "metadata": {},
   "outputs": [
    {
     "data": {
      "text/plain": [
       "count    172.000000\n",
       "mean       0.823205\n",
       "std        0.190107\n",
       "min        0.063932\n",
       "25%        0.795961\n",
       "50%        0.889854\n",
       "75%        0.939331\n",
       "max        0.996336\n",
       "Name: Recovery Percentage, dtype: float64"
      ]
     },
     "execution_count": 28,
     "metadata": {},
     "output_type": "execute_result"
    }
   ],
   "source": [
    "combine['Recovery Percentage'].describe()"
   ]
  },
  {
   "cell_type": "code",
   "execution_count": 29,
   "metadata": {},
   "outputs": [
    {
     "data": {
      "text/plain": [
       "<matplotlib.axes._subplots.AxesSubplot at 0x1c266a6dd0>"
      ]
     },
     "execution_count": 29,
     "metadata": {},
     "output_type": "execute_result"
    },
    {
     "data": {
      "image/png": "[encoded data removed]",
      "text/plain": [
       "<Figure size 432x288 with 1 Axes>"
      ]
     },
     "metadata": {
      "needs_background": "light"
     },
     "output_type": "display_data"
    }
   ],
   "source": [
    "sns.boxplot(x='Recovery Percentage', data=combine)"
   ]
  },
  {
   "cell_type": "markdown",
   "metadata": {},
   "source": [
    "For almost all countries:\n",
    "- The average recovery percentage is about 82.80%\n",
    "- The median recovery percentage is about 89.91%\n",
    "- The maximum recovery percentage is about 100%"
   ]
  },
  {
   "cell_type": "code",
   "execution_count": 30,
   "metadata": {},
   "outputs": [
    {
     "data": {
      "text/plain": [
       "count    128.000000\n",
       "mean       0.829883\n",
       "std        0.162416\n",
       "min        0.075468\n",
       "25%        0.777137\n",
       "50%        0.877776\n",
       "75%        0.939331\n",
       "max        0.993237\n",
       "Name: Recovery Percentage, dtype: float64"
      ]
     },
     "execution_count": 30,
     "metadata": {},
     "output_type": "execute_result"
    }
   ],
   "source": [
    "combine_developing['Recovery Percentage'].describe()"
   ]
  },
  {
   "cell_type": "code",
   "execution_count": 31,
   "metadata": {
    "scrolled": false
   },
   "outputs": [
    {
     "data": {
      "text/plain": [
       "<matplotlib.axes._subplots.AxesSubplot at 0x1c267b4090>"
      ]
     },
     "execution_count": 31,
     "metadata": {},
     "output_type": "execute_result"
    },
    {
     "data": {
      "image/png": "[encoded data removed]",
      "text/plain": [
       "<Figure size 432x288 with 1 Axes>"
      ]
     },
     "metadata": {
      "needs_background": "light"
     },
     "output_type": "display_data"
    }
   ],
   "source": [
    "sns.boxplot(x='Recovery Percentage', data=combine_developing)"
   ]
  },
  {
   "cell_type": "markdown",
   "metadata": {},
   "source": [
    "For developing countries:\n",
    "- The average recovery percentage is about 83.47%\n",
    "- The median recovery percentage is about 88.04%\n",
    "- The maximum recovery percentage is about 100%"
   ]
  },
  {
   "cell_type": "code",
   "execution_count": 32,
   "metadata": {},
   "outputs": [
    {
     "data": {
      "text/plain": [
       "array([[<matplotlib.axes._subplots.AxesSubplot object at 0x1c267e8f50>]],\n",
       "      dtype=object)"
      ]
     },
     "execution_count": 32,
     "metadata": {},
     "output_type": "execute_result"
    },
    {
     "data": {
      "image/png": "[encoded data removed]",
      "text/plain": [
       "<Figure size 432x288 with 1 Axes>"
      ]
     },
     "metadata": {
      "needs_background": "light"
     },
     "output_type": "display_data"
    }
   ],
   "source": [
    "combine_developing.hist(column = 'Recovery Percentage')"
   ]
  },
  {
   "cell_type": "markdown",
   "metadata": {},
   "source": [
    "We then plotted a histogram of the percentage of recovered patients in the developing countries.\n",
    "\n",
    "The disitribution doesn't fit any of the common distributions, but the data was highly skewed to the left.\n",
    "\n",
    "We observed that the recovery percentage is quite high for most developing countries, contrary to what we initially predicted."
   ]
  },
  {
   "cell_type": "code",
   "execution_count": 33,
   "metadata": {},
   "outputs": [
    {
     "data": {
      "text/plain": [
       "count    43.000000\n",
       "mean      0.809926\n",
       "std       0.256441\n",
       "min       0.063932\n",
       "25%       0.833113\n",
       "50%       0.904901\n",
       "75%       0.942338\n",
       "max       0.996336\n",
       "Name: Recovery Percentage, dtype: float64"
      ]
     },
     "execution_count": 33,
     "metadata": {},
     "output_type": "execute_result"
    }
   ],
   "source": [
    "combine_developed['Recovery Percentage'].describe()"
   ]
  },
  {
   "cell_type": "code",
   "execution_count": 34,
   "metadata": {
    "scrolled": false
   },
   "outputs": [
    {
     "data": {
      "text/plain": [
       "<matplotlib.axes._subplots.AxesSubplot at 0x1c2694b990>"
      ]
     },
     "execution_count": 34,
     "metadata": {},
     "output_type": "execute_result"
    },
    {
     "data": {
      "image/png": "[encoded data removed]",
      "text/plain": [
       "<Figure size 432x288 with 1 Axes>"
      ]
     },
     "metadata": {
      "needs_background": "light"
     },
     "output_type": "display_data"
    }
   ],
   "source": [
    "sns.boxplot(x='Recovery Percentage', data=combine_developed)"
   ]
  },
  {
   "cell_type": "markdown",
   "metadata": {},
   "source": [
    "For developed countries:\n",
    "- The average recovery percentage is about 81.00%\n",
    "- The median recovery percentage is about 90.49%\n",
    "- The maximum recovery percentage is about 99.63%"
   ]
  },
  {
   "cell_type": "code",
   "execution_count": 35,
   "metadata": {},
   "outputs": [
    {
     "data": {
      "text/plain": [
       "array([[<matplotlib.axes._subplots.AxesSubplot object at 0x1c26975a90>]],\n",
       "      dtype=object)"
      ]
     },
     "execution_count": 35,
     "metadata": {},
     "output_type": "execute_result"
    },
    {
     "data": {
      "image/png": "[encoded data removed]",
      "text/plain": [
       "<Figure size 432x288 with 1 Axes>"
      ]
     },
     "metadata": {
      "needs_background": "light"
     },
     "output_type": "display_data"
    }
   ],
   "source": [
    "combine_developed.hist(column = 'Recovery Percentage')"
   ]
  },
  {
   "cell_type": "markdown",
   "metadata": {},
   "source": [
    "We then plotted a histogram of the recovery percentage of all the developed countries.\n",
    "\n",
    "Again, the distribution for the variables doesn't seem to fit any of the common distributions, but the data was skewed to the left. "
   ]
  },
  {
   "cell_type": "code",
   "execution_count": 36,
   "metadata": {},
   "outputs": [],
   "source": [
    "recovery_outlier = combine_developed[combine_developed['Recovery Percentage'] < 0.2]"
   ]
  },
  {
   "cell_type": "code",
   "execution_count": 37,
   "metadata": {},
   "outputs": [
    {
     "data": {
      "text/html": [
       "<div>\n",
       "<style scoped>\n",
       "    .dataframe tbody tr th:only-of-type {\n",
       "        vertical-align: middle;\n",
       "    }\n",
       "\n",
       "    .dataframe tbody tr th {\n",
       "        vertical-align: top;\n",
       "    }\n",
       "\n",
       "    .dataframe thead th {\n",
       "        text-align: right;\n",
       "    }\n",
       "</style>\n",
       "<table border=\"1\" class=\"dataframe\">\n",
       "  <thead>\n",
       "    <tr style=\"text-align: right;\">\n",
       "      <th></th>\n",
       "      <th>Country</th>\n",
       "      <th>Total Cases</th>\n",
       "      <th>Total Deaths</th>\n",
       "      <th>Total Recovered</th>\n",
       "      <th>TotCases/ 1M pop</th>\n",
       "      <th>Deaths/1M pop</th>\n",
       "      <th>Population</th>\n",
       "      <th>Units</th>\n",
       "      <th>Scale</th>\n",
       "      <th>2020 GDP</th>\n",
       "      <th>Recovery Percentage</th>\n",
       "      <th>Death Percentage</th>\n",
       "      <th>GDP per Capita</th>\n",
       "      <th>TotCases_per_100k_pop</th>\n",
       "      <th>Deaths_per_100k_pop</th>\n",
       "      <th>log_TotCases_per_1M_pop</th>\n",
       "      <th>sqrt_TotCases_per_1M_pop</th>\n",
       "    </tr>\n",
       "  </thead>\n",
       "  <tbody>\n",
       "    <tr>\n",
       "      <td>5</td>\n",
       "      <td>France</td>\n",
       "      <td>3406685</td>\n",
       "      <td>80803.0</td>\n",
       "      <td>238753.0</td>\n",
       "      <td>52120.0</td>\n",
       "      <td>1236.0</td>\n",
       "      <td>65362676.0</td>\n",
       "      <td>U.S. dollars</td>\n",
       "      <td>Billions</td>\n",
       "      <td>2551.450</td>\n",
       "      <td>0.070084</td>\n",
       "      <td>0.023719</td>\n",
       "      <td>39035.274504</td>\n",
       "      <td>5212.0</td>\n",
       "      <td>123.6</td>\n",
       "      <td>10.861304</td>\n",
       "      <td>228.298051</td>\n",
       "    </tr>\n",
       "    <tr>\n",
       "      <td>25</td>\n",
       "      <td>Belgium</td>\n",
       "      <td>733100</td>\n",
       "      <td>21551.0</td>\n",
       "      <td>50362.0</td>\n",
       "      <td>63086.0</td>\n",
       "      <td>1855.0</td>\n",
       "      <td>11620726.0</td>\n",
       "      <td>U.S. dollars</td>\n",
       "      <td>Billions</td>\n",
       "      <td>503.416</td>\n",
       "      <td>0.068697</td>\n",
       "      <td>0.029397</td>\n",
       "      <td>43320.529199</td>\n",
       "      <td>6308.6</td>\n",
       "      <td>185.5</td>\n",
       "      <td>11.052254</td>\n",
       "      <td>251.169266</td>\n",
       "    </tr>\n",
       "    <tr>\n",
       "      <td>55</td>\n",
       "      <td>Ireland</td>\n",
       "      <td>206801</td>\n",
       "      <td>3846.0</td>\n",
       "      <td>23364.0</td>\n",
       "      <td>41596.0</td>\n",
       "      <td>774.0</td>\n",
       "      <td>4971670.0</td>\n",
       "      <td>U.S. dollars</td>\n",
       "      <td>Billions</td>\n",
       "      <td>399.064</td>\n",
       "      <td>0.112978</td>\n",
       "      <td>0.018598</td>\n",
       "      <td>80267.596200</td>\n",
       "      <td>4159.6</td>\n",
       "      <td>77.4</td>\n",
       "      <td>10.635759</td>\n",
       "      <td>203.950975</td>\n",
       "    </tr>\n",
       "    <tr>\n",
       "      <td>104</td>\n",
       "      <td>Cyprus</td>\n",
       "      <td>32175</td>\n",
       "      <td>218.0</td>\n",
       "      <td>2057.0</td>\n",
       "      <td>26530.0</td>\n",
       "      <td>180.0</td>\n",
       "      <td>1212770.0</td>\n",
       "      <td>U.S. dollars</td>\n",
       "      <td>Billions</td>\n",
       "      <td>23.246</td>\n",
       "      <td>0.063932</td>\n",
       "      <td>0.006775</td>\n",
       "      <td>19167.690494</td>\n",
       "      <td>2653.0</td>\n",
       "      <td>18.0</td>\n",
       "      <td>10.186031</td>\n",
       "      <td>162.880324</td>\n",
       "    </tr>\n",
       "  </tbody>\n",
       "</table>\n",
       "</div>"
      ],
      "text/plain": [
       "     Country  Total Cases  Total Deaths  Total Recovered  TotCases/ 1M pop  \\\n",
       "5     France      3406685       80803.0         238753.0           52120.0   \n",
       "25   Belgium       733100       21551.0          50362.0           63086.0   \n",
       "55   Ireland       206801        3846.0          23364.0           41596.0   \n",
       "104   Cyprus        32175         218.0           2057.0           26530.0   \n",
       "\n",
       "     Deaths/1M pop  Population         Units     Scale  2020 GDP  \\\n",
       "5           1236.0  65362676.0  U.S. dollars  Billions  2551.450   \n",
       "25          1855.0  11620726.0  U.S. dollars  Billions   503.416   \n",
       "55           774.0   4971670.0  U.S. dollars  Billions   399.064   \n",
       "104          180.0   1212770.0  U.S. dollars  Billions    23.246   \n",
       "\n",
       "     Recovery Percentage  Death Percentage  GDP per Capita  \\\n",
       "5               0.070084          0.023719    39035.274504   \n",
       "25              0.068697          0.029397    43320.529199   \n",
       "55              0.112978          0.018598    80267.596200   \n",
       "104             0.063932          0.006775    19167.690494   \n",
       "\n",
       "     TotCases_per_100k_pop  Deaths_per_100k_pop  log_TotCases_per_1M_pop  \\\n",
       "5                   5212.0                123.6                10.861304   \n",
       "25                  6308.6                185.5                11.052254   \n",
       "55                  4159.6                 77.4                10.635759   \n",
       "104                 2653.0                 18.0                10.186031   \n",
       "\n",
       "     sqrt_TotCases_per_1M_pop  \n",
       "5                  228.298051  \n",
       "25                 251.169266  \n",
       "55                 203.950975  \n",
       "104                162.880324  "
      ]
     },
     "execution_count": 37,
     "metadata": {},
     "output_type": "execute_result"
    }
   ],
   "source": [
    "recovery_outlier"
   ]
  },
  {
   "cell_type": "markdown",
   "metadata": {},
   "source": [
    "We observed that the recovery percentage is generally quite high, with 4 countries with super low recovery rates. Those 4 countries are France, Belgium, Ireland, Cyprus. Upon investigating, these countries had a low number of cases which hasn't concluded yet.  "
   ]
  },
  {
   "cell_type": "code",
   "execution_count": 38,
   "metadata": {
    "scrolled": true
   },
   "outputs": [
    {
     "data": {
      "image/png": "[encoded data removed]",
      "text/plain": [
       "<Figure size 360x360 with 1 Axes>"
      ]
     },
     "metadata": {
      "needs_background": "light"
     },
     "output_type": "display_data"
    }
   ],
   "source": [
    "sns.lmplot(x='GDP per Capita', y='Recovery Percentage', data=combine, fit_reg=True);"
   ]
  },
  {
   "cell_type": "code",
   "execution_count": 39,
   "metadata": {
    "scrolled": true
   },
   "outputs": [
    {
     "name": "stdout",
     "output_type": "stream",
     "text": [
      "                               OLS Regression Results                               \n",
      "====================================================================================\n",
      "Dep. Variable:     Q(\"Recovery Percentage\")   R-squared:                       0.006\n",
      "Model:                                  OLS   Adj. R-squared:                  0.000\n",
      "Method:                       Least Squares   F-statistic:                     1.014\n",
      "Date:                      Wed, 17 Mar 2021   Prob (F-statistic):              0.315\n",
      "Time:                              23:31:26   Log-Likelihood:                 42.032\n",
      "No. Observations:                       170   AIC:                            -80.06\n",
      "Df Residuals:                           168   BIC:                            -73.79\n",
      "Df Model:                                 1                                         \n",
      "Covariance Type:                  nonrobust                                         \n",
      "=======================================================================================\n",
      "                          coef    std err          t      P>|t|      [0.025      0.975]\n",
      "---------------------------------------------------------------------------------------\n",
      "Intercept               0.8347      0.018     46.423      0.000       0.799       0.870\n",
      "Q(\"GDP per Capita\") -7.953e-07    7.9e-07     -1.007      0.315   -2.35e-06    7.64e-07\n",
      "==============================================================================\n",
      "Omnibus:                       92.965   Durbin-Watson:                   2.124\n",
      "Prob(Omnibus):                  0.000   Jarque-Bera (JB):              339.601\n",
      "Skew:                          -2.251   Prob(JB):                     1.81e-74\n",
      "Kurtosis:                       8.260   Cond. No.                     2.81e+04\n",
      "==============================================================================\n",
      "\n",
      "Warnings:\n",
      "[1] Standard Errors assume that the covariance matrix of the errors is correctly specified.\n",
      "[2] The condition number is large, 2.81e+04. This might indicate that there are\n",
      "strong multicollinearity or other numerical problems.\n"
     ]
    }
   ],
   "source": [
    "outcome_1, predictors_1 = patsy.dmatrices('Q(\"Recovery Percentage\") ~ Q(\"GDP per Capita\")', combine)\n",
    "mod_1 = sm.OLS(outcome_1, predictors_1)\n",
    "res_1 = mod_1.fit()\n",
    "print(res_1.summary())"
   ]
  },
  {
   "cell_type": "markdown",
   "metadata": {},
   "source": [
    "We plotted GDP per capita against recovery rate and made a linear model using OLS. Since R^2 is about 0.006, there is no sufficient evidence to support that the correlation between GDP Per Capita and Recovery Rate. This is most likely because most countries have GDP Per Capita lower than 20,000, so this graph is not normally distributed. "
   ]
  },
  {
   "cell_type": "code",
   "execution_count": 40,
   "metadata": {
    "scrolled": true
   },
   "outputs": [
    {
     "data": {
      "image/png": "[encoded data removed]",
      "text/plain": [
       "<Figure size 360x360 with 1 Axes>"
      ]
     },
     "metadata": {
      "needs_background": "light"
     },
     "output_type": "display_data"
    }
   ],
   "source": [
    "sns.lmplot(x='GDP per Capita', y='Recovery Percentage', data=combine_developing, fit_reg=True);"
   ]
  },
  {
   "cell_type": "code",
   "execution_count": 41,
   "metadata": {},
   "outputs": [
    {
     "name": "stdout",
     "output_type": "stream",
     "text": [
      "                               OLS Regression Results                               \n",
      "====================================================================================\n",
      "Dep. Variable:     Q(\"Recovery Percentage\")   R-squared:                       0.008\n",
      "Model:                                  OLS   Adj. R-squared:                 -0.000\n",
      "Method:                       Least Squares   F-statistic:                    0.9760\n",
      "Date:                      Wed, 17 Mar 2021   Prob (F-statistic):              0.325\n",
      "Time:                              23:31:28   Log-Likelihood:                 52.024\n",
      "No. Observations:                       128   AIC:                            -100.0\n",
      "Df Residuals:                           126   BIC:                            -94.34\n",
      "Df Model:                                 1                                         \n",
      "Covariance Type:                  nonrobust                                         \n",
      "=======================================================================================\n",
      "                          coef    std err          t      P>|t|      [0.025      0.975]\n",
      "---------------------------------------------------------------------------------------\n",
      "Intercept               0.8141      0.021     37.915      0.000       0.772       0.857\n",
      "Q(\"GDP per Capita\")  3.417e-06   3.46e-06      0.988      0.325   -3.43e-06    1.03e-05\n",
      "==============================================================================\n",
      "Omnibus:                       65.984   Durbin-Watson:                   1.939\n",
      "Prob(Omnibus):                  0.000   Jarque-Bera (JB):              204.603\n",
      "Skew:                          -2.015   Prob(JB):                     3.72e-45\n",
      "Kurtosis:                       7.703   Cond. No.                     9.28e+03\n",
      "==============================================================================\n",
      "\n",
      "Warnings:\n",
      "[1] Standard Errors assume that the covariance matrix of the errors is correctly specified.\n",
      "[2] The condition number is large, 9.28e+03. This might indicate that there are\n",
      "strong multicollinearity or other numerical problems.\n"
     ]
    }
   ],
   "source": [
    "outcome_2, predictors_2 = patsy.dmatrices('Q(\"Recovery Percentage\") ~ Q(\"GDP per Capita\")', combine_developing)\n",
    "mod_2 = sm.OLS(outcome_2, predictors_2)\n",
    "res_2 = mod_2.fit()\n",
    "print(res_2.summary())"
   ]
  },
  {
   "cell_type": "markdown",
   "metadata": {},
   "source": [
    "Now we are focusing on the countries with less than 16,301 GDP Per Capita (75th percentile). We plotted GDP per capita against recovery rate and made a linear model using OLS. Since R^2 is about 0.008, there is no sufficient evidence to support that the correlation between GDP Per Capita and Recovery Rate for developing countries. "
   ]
  },
  {
   "cell_type": "code",
   "execution_count": 42,
   "metadata": {},
   "outputs": [
    {
     "data": {
      "image/png": "[encoded data removed]",
      "text/plain": [
       "<Figure size 360x360 with 1 Axes>"
      ]
     },
     "metadata": {
      "needs_background": "light"
     },
     "output_type": "display_data"
    }
   ],
   "source": [
    "sns.lmplot(x='GDP per Capita', y='Recovery Percentage', data=combine_developed, fit_reg=True);"
   ]
  },
  {
   "cell_type": "code",
   "execution_count": 43,
   "metadata": {},
   "outputs": [
    {
     "name": "stdout",
     "output_type": "stream",
     "text": [
      "                               OLS Regression Results                               \n",
      "====================================================================================\n",
      "Dep. Variable:     Q(\"Recovery Percentage\")   R-squared:                       0.016\n",
      "Model:                                  OLS   Adj. R-squared:                 -0.008\n",
      "Method:                       Least Squares   F-statistic:                    0.6873\n",
      "Date:                      Wed, 17 Mar 2021   Prob (F-statistic):              0.412\n",
      "Time:                              23:31:29   Log-Likelihood:                -1.6342\n",
      "No. Observations:                        43   AIC:                             7.268\n",
      "Df Residuals:                            41   BIC:                             10.79\n",
      "Df Model:                                 1                                         \n",
      "Covariance Type:                  nonrobust                                         \n",
      "=======================================================================================\n",
      "                          coef    std err          t      P>|t|      [0.025      0.975]\n",
      "---------------------------------------------------------------------------------------\n",
      "Intercept               0.8763      0.089      9.831      0.000       0.696       1.056\n",
      "Q(\"GDP per Capita\") -1.664e-06   2.01e-06     -0.829      0.412   -5.72e-06    2.39e-06\n",
      "==============================================================================\n",
      "Omnibus:                       31.263   Durbin-Watson:                   1.848\n",
      "Prob(Omnibus):                  0.000   Jarque-Bera (JB):               58.069\n",
      "Skew:                          -2.175   Prob(JB):                     2.46e-13\n",
      "Kurtosis:                       6.672   Cond. No.                     1.01e+05\n",
      "==============================================================================\n",
      "\n",
      "Warnings:\n",
      "[1] Standard Errors assume that the covariance matrix of the errors is correctly specified.\n",
      "[2] The condition number is large, 1.01e+05. This might indicate that there are\n",
      "strong multicollinearity or other numerical problems.\n"
     ]
    }
   ],
   "source": [
    "outcome_3, predictors_3 = patsy.dmatrices('Q(\"Recovery Percentage\") ~ Q(\"GDP per Capita\")', combine_developed)\n",
    "mod_3 = sm.OLS(outcome_3, predictors_3)\n",
    "res_3 = mod_3.fit()\n",
    "print(res_3.summary())"
   ]
  },
  {
   "cell_type": "markdown",
   "metadata": {},
   "source": [
    "Now we are focusing on the countries with more than 16,301 GDP Per Capita (75th percentile). We plotted GDP per capita against recovery rate and made a linear model using OLS. Since R^2 is about 0.016, there is no sufficient evidence to support that the correlation between GDP Per Capita and Recovery Rate for developed countries. "
   ]
  },
  {
   "cell_type": "markdown",
   "metadata": {},
   "source": [
    "# Total Cases per 100k Population"
   ]
  },
  {
   "cell_type": "code",
   "execution_count": 44,
   "metadata": {},
   "outputs": [
    {
     "data": {
      "text/plain": [
       "count      175.000000\n",
       "mean      2144.123429\n",
       "std       2478.388637\n",
       "min          0.800000\n",
       "25%        142.750000\n",
       "50%       1058.600000\n",
       "75%       3741.400000\n",
       "max      10737.000000\n",
       "Name: TotCases_per_100k_pop, dtype: float64"
      ]
     },
     "execution_count": 44,
     "metadata": {},
     "output_type": "execute_result"
    }
   ],
   "source": [
    "combine['TotCases_per_100k_pop'].describe()"
   ]
  },
  {
   "cell_type": "code",
   "execution_count": 45,
   "metadata": {},
   "outputs": [
    {
     "data": {
      "text/plain": [
       "<matplotlib.axes._subplots.AxesSubplot at 0x1c26945b50>"
      ]
     },
     "execution_count": 45,
     "metadata": {},
     "output_type": "execute_result"
    },
    {
     "data": {
      "image/png": "[encoded data removed]",
      "text/plain": [
       "<Figure size 432x288 with 1 Axes>"
      ]
     },
     "metadata": {
      "needs_background": "light"
     },
     "output_type": "display_data"
    }
   ],
   "source": [
    "sns.boxplot(x='TotCases_per_100k_pop', data=combine)"
   ]
  },
  {
   "cell_type": "markdown",
   "metadata": {},
   "source": [
    "For almost all countries:\n",
    "- The average of total cases per 100k population is about 2144\n",
    "- The median of total cases per 100k population  is about 1058\n",
    "- The maximum of total cases per 100k population is about 10737"
   ]
  },
  {
   "cell_type": "code",
   "execution_count": 46,
   "metadata": {
    "scrolled": true
   },
   "outputs": [
    {
     "data": {
      "text/plain": [
       "array([[<matplotlib.axes._subplots.AxesSubplot object at 0x1c273bd350>]],\n",
       "      dtype=object)"
      ]
     },
     "execution_count": 46,
     "metadata": {},
     "output_type": "execute_result"
    },
    {
     "data": {
      "image/png": "[encoded data removed]",
      "text/plain": [
       "<Figure size 432x288 with 1 Axes>"
      ]
     },
     "metadata": {
      "needs_background": "light"
     },
     "output_type": "display_data"
    }
   ],
   "source": [
    "combine.hist(column = 'TotCases_per_100k_pop', bins = 10)"
   ]
  },
  {
   "cell_type": "markdown",
   "metadata": {},
   "source": [
    "We then plotted a histogram of the total cases per 100k populatin. \n",
    "\n",
    "The distribution for the variables doesn't seem to fit any of the common distributions, but the data was highly skewed to the right.\n",
    "\n",
    "We observed that for most countries, there is less than 10000 cases per 100k people."
   ]
  },
  {
   "cell_type": "code",
   "execution_count": 47,
   "metadata": {},
   "outputs": [
    {
     "data": {
      "text/plain": [
       "count      128.000000\n",
       "mean      1459.460938\n",
       "std       1866.028938\n",
       "min          0.800000\n",
       "25%        115.875000\n",
       "50%        571.400000\n",
       "75%       2326.625000\n",
       "max      10737.000000\n",
       "Name: TotCases_per_100k_pop, dtype: float64"
      ]
     },
     "execution_count": 47,
     "metadata": {},
     "output_type": "execute_result"
    }
   ],
   "source": [
    "combine_developing['TotCases_per_100k_pop'].describe()"
   ]
  },
  {
   "cell_type": "code",
   "execution_count": 48,
   "metadata": {},
   "outputs": [
    {
     "data": {
      "text/plain": [
       "<matplotlib.axes._subplots.AxesSubplot at 0x1c273f5210>"
      ]
     },
     "execution_count": 48,
     "metadata": {},
     "output_type": "execute_result"
    },
    {
     "data": {
      "image/png": "[encoded data removed]",
      "text/plain": [
       "<Figure size 432x288 with 1 Axes>"
      ]
     },
     "metadata": {
      "needs_background": "light"
     },
     "output_type": "display_data"
    }
   ],
   "source": [
    "sns.boxplot(x='TotCases_per_100k_pop', data=combine_developing)"
   ]
  },
  {
   "cell_type": "markdown",
   "metadata": {},
   "source": [
    "For developing countries:\n",
    "- The average of total cases per 100k population is about 1459\n",
    "- The median of total cases per 100k population  is about 571\n",
    "- The maximum of total cases per 100k population is about 10737"
   ]
  },
  {
   "cell_type": "markdown",
   "metadata": {
    "scrolled": true
   },
   "source": [
    "combine_developing.hist(column = 'TotCases_per_100k_pop', bins = 10)"
   ]
  },
  {
   "cell_type": "markdown",
   "metadata": {},
   "source": [
    "Again, we wanted to see if there are distribution differences between developing and developed countries. \n",
    "\n",
    "We plotted a histogram of the total cases per 100k population for developing countries.\n",
    "\n",
    "The data, again, doesn't fit any common distributions and is skewed to the right.\n",
    "\n",
    "We observed that again, most developing countries have a low number of cases per 100k population (<10000)"
   ]
  },
  {
   "cell_type": "code",
   "execution_count": 49,
   "metadata": {},
   "outputs": [
    {
     "data": {
      "text/plain": [
       "count       46.000000\n",
       "mean      4088.789130\n",
       "std       2941.385192\n",
       "min          3.900000\n",
       "25%       1315.950000\n",
       "50%       4110.650000\n",
       "75%       6286.400000\n",
       "max      10017.200000\n",
       "Name: TotCases_per_100k_pop, dtype: float64"
      ]
     },
     "execution_count": 49,
     "metadata": {},
     "output_type": "execute_result"
    }
   ],
   "source": [
    "combine_developed['TotCases_per_100k_pop'].describe()"
   ]
  },
  {
   "cell_type": "code",
   "execution_count": 50,
   "metadata": {},
   "outputs": [
    {
     "data": {
      "text/plain": [
       "<matplotlib.axes._subplots.AxesSubplot at 0x1c27595f50>"
      ]
     },
     "execution_count": 50,
     "metadata": {},
     "output_type": "execute_result"
    },
    {
     "data": {
      "image/png": "[encoded data removed]",
      "text/plain": [
       "<Figure size 432x288 with 1 Axes>"
      ]
     },
     "metadata": {
      "needs_background": "light"
     },
     "output_type": "display_data"
    }
   ],
   "source": [
    "sns.boxplot(x='TotCases_per_100k_pop', data=combine_developed)"
   ]
  },
  {
   "cell_type": "markdown",
   "metadata": {},
   "source": [
    "For developed countries:\n",
    "- The average of total cases per 100k population is about 4088\n",
    "- The median of total cases per 100k population  is about 4110\n",
    "- The maximum of total cases per 100k population is about 10017"
   ]
  },
  {
   "cell_type": "code",
   "execution_count": 51,
   "metadata": {
    "scrolled": true
   },
   "outputs": [
    {
     "data": {
      "text/plain": [
       "array([[<matplotlib.axes._subplots.AxesSubplot object at 0x1c2750ba50>]],\n",
       "      dtype=object)"
      ]
     },
     "execution_count": 51,
     "metadata": {},
     "output_type": "execute_result"
    },
    {
     "data": {
      "image/png": "[encoded data removed]",
      "text/plain": [
       "<Figure size 432x288 with 1 Axes>"
      ]
     },
     "metadata": {
      "needs_background": "light"
     },
     "output_type": "display_data"
    }
   ],
   "source": [
    "combine_developed.hist(column = 'TotCases_per_100k_pop', bins = 10)"
   ]
  },
  {
   "cell_type": "markdown",
   "metadata": {},
   "source": [
    "We then plotted a histogram of the total cases per 100k population for developed countries.\n",
    "\n",
    "The data, again, doesn't fit any common distributions, though one can argue that is it nearing a uniform distribution. However, the sample size is too low to say so. The data is skewed to the right.\n",
    "\n",
    "We observed that developed countries' total cases per 100k population was much more varied than previous variables, but still favoring the low end of <10000 cases per 100k population."
   ]
  },
  {
   "cell_type": "code",
   "execution_count": 52,
   "metadata": {},
   "outputs": [
    {
     "data": {
      "image/png": "[encoded data removed]",
      "text/plain": [
       "<Figure size 360x360 with 1 Axes>"
      ]
     },
     "metadata": {
      "needs_background": "light"
     },
     "output_type": "display_data"
    }
   ],
   "source": [
    "sns.lmplot(x='GDP per Capita', y='TotCases_per_100k_pop', data=combine, fit_reg=True);"
   ]
  },
  {
   "cell_type": "code",
   "execution_count": 53,
   "metadata": {},
   "outputs": [
    {
     "data": {
      "text/html": [
       "<div>\n",
       "<style scoped>\n",
       "    .dataframe tbody tr th:only-of-type {\n",
       "        vertical-align: middle;\n",
       "    }\n",
       "\n",
       "    .dataframe tbody tr th {\n",
       "        vertical-align: top;\n",
       "    }\n",
       "\n",
       "    .dataframe thead th {\n",
       "        text-align: right;\n",
       "    }\n",
       "</style>\n",
       "<table border=\"1\" class=\"dataframe\">\n",
       "  <thead>\n",
       "    <tr style=\"text-align: right;\">\n",
       "      <th></th>\n",
       "      <th>Country</th>\n",
       "      <th>Total Cases</th>\n",
       "      <th>Total Deaths</th>\n",
       "      <th>Total Recovered</th>\n",
       "      <th>TotCases/ 1M pop</th>\n",
       "      <th>Deaths/1M pop</th>\n",
       "      <th>Population</th>\n",
       "      <th>Units</th>\n",
       "      <th>Scale</th>\n",
       "      <th>2020 GDP</th>\n",
       "      <th>Recovery Percentage</th>\n",
       "      <th>Death Percentage</th>\n",
       "      <th>GDP per Capita</th>\n",
       "      <th>TotCases_per_100k_pop</th>\n",
       "      <th>Deaths_per_100k_pop</th>\n",
       "      <th>log_TotCases_per_1M_pop</th>\n",
       "      <th>sqrt_TotCases_per_1M_pop</th>\n",
       "    </tr>\n",
       "  </thead>\n",
       "  <tbody>\n",
       "    <tr>\n",
       "      <td>91</td>\n",
       "      <td>Montenegro</td>\n",
       "      <td>67441</td>\n",
       "      <td>869.0</td>\n",
       "      <td>58210.0</td>\n",
       "      <td>107370.0</td>\n",
       "      <td>1384.0</td>\n",
       "      <td>628115.0</td>\n",
       "      <td>U.S. dollars</td>\n",
       "      <td>Billions</td>\n",
       "      <td>4.943</td>\n",
       "      <td>0.863125</td>\n",
       "      <td>0.012885</td>\n",
       "      <td>7869.578023</td>\n",
       "      <td>10737.0</td>\n",
       "      <td>138.4</td>\n",
       "      <td>11.584036</td>\n",
       "      <td>327.673618</td>\n",
       "    </tr>\n",
       "  </tbody>\n",
       "</table>\n",
       "</div>"
      ],
      "text/plain": [
       "       Country  Total Cases  Total Deaths  Total Recovered  TotCases/ 1M pop  \\\n",
       "91  Montenegro        67441         869.0          58210.0          107370.0   \n",
       "\n",
       "    Deaths/1M pop  Population         Units     Scale  2020 GDP  \\\n",
       "91         1384.0    628115.0  U.S. dollars  Billions     4.943   \n",
       "\n",
       "    Recovery Percentage  Death Percentage  GDP per Capita  \\\n",
       "91             0.863125          0.012885     7869.578023   \n",
       "\n",
       "    TotCases_per_100k_pop  Deaths_per_100k_pop  log_TotCases_per_1M_pop  \\\n",
       "91                10737.0                138.4                11.584036   \n",
       "\n",
       "    sqrt_TotCases_per_1M_pop  \n",
       "91                327.673618  "
      ]
     },
     "execution_count": 53,
     "metadata": {},
     "output_type": "execute_result"
    }
   ],
   "source": [
    "total_cases_outlier = combine[combine['TotCases_per_100k_pop'] == max(combine['TotCases_per_100k_pop'])]\n",
    "total_cases_outlier"
   ]
  },
  {
   "cell_type": "markdown",
   "metadata": {},
   "source": [
    "Montenegro had the significant high total cases per 100k people among all other countries, and it may cause the correlation and R^2 to be inaccurate between GDP Per Capita and Total Cases Per 100k People. "
   ]
  },
  {
   "cell_type": "code",
   "execution_count": 54,
   "metadata": {},
   "outputs": [
    {
     "name": "stdout",
     "output_type": "stream",
     "text": [
      "                                OLS Regression Results                                \n",
      "======================================================================================\n",
      "Dep. Variable:     Q(\"TotCases_per_100k_pop\")   R-squared:                       0.227\n",
      "Model:                                    OLS   Adj. R-squared:                  0.223\n",
      "Method:                         Least Squares   F-statistic:                     50.27\n",
      "Date:                        Wed, 17 Mar 2021   Prob (F-statistic):           3.38e-11\n",
      "Time:                                23:31:32   Log-Likelihood:                -1575.1\n",
      "No. Observations:                         173   AIC:                             3154.\n",
      "Df Residuals:                             171   BIC:                             3161.\n",
      "Df Model:                                   1                                         \n",
      "Covariance Type:                    nonrobust                                         \n",
      "=======================================================================================\n",
      "                          coef    std err          t      P>|t|      [0.025      0.975]\n",
      "---------------------------------------------------------------------------------------\n",
      "Intercept            1296.9322    206.816      6.271      0.000     888.691    1705.174\n",
      "Q(\"GDP per Capita\")     0.0628      0.009      7.090      0.000       0.045       0.080\n",
      "==============================================================================\n",
      "Omnibus:                       36.192   Durbin-Watson:                   1.607\n",
      "Prob(Omnibus):                  0.000   Jarque-Bera (JB):               57.119\n",
      "Skew:                           1.097   Prob(JB):                     3.95e-13\n",
      "Kurtosis:                       4.763   Cond. No.                     2.90e+04\n",
      "==============================================================================\n",
      "\n",
      "Warnings:\n",
      "[1] Standard Errors assume that the covariance matrix of the errors is correctly specified.\n",
      "[2] The condition number is large, 2.9e+04. This might indicate that there are\n",
      "strong multicollinearity or other numerical problems.\n"
     ]
    }
   ],
   "source": [
    "outcome_4, predictors_4 = patsy.dmatrices('Q(\"TotCases_per_100k_pop\") ~ Q(\"GDP per Capita\")', combine)\n",
    "mod_4 = sm.OLS(outcome_4, predictors_4)\n",
    "res_4 = mod_4.fit()\n",
    "print(res_4.summary())"
   ]
  },
  {
   "cell_type": "markdown",
   "metadata": {},
   "source": [
    "We plotted GDP per capita against total cases per 100k population and made a linear model using OLS. \n",
    "Since the R^2 is about 0.227, there is no sufficient evidence to support that the correlation between GDP Per Capita and Total Cases Per 100k Population. This is most likely because most countries have GDP Per Capita lower than 16,301, so this graph is not normally distributed. "
   ]
  },
  {
   "cell_type": "code",
   "execution_count": 55,
   "metadata": {},
   "outputs": [
    {
     "data": {
      "image/png": "[encoded data removed]",
      "text/plain": [
       "<Figure size 360x360 with 1 Axes>"
      ]
     },
     "metadata": {
      "needs_background": "light"
     },
     "output_type": "display_data"
    }
   ],
   "source": [
    "sns.lmplot(x='GDP per Capita', y='TotCases_per_100k_pop', data=combine_developing, fit_reg=True);"
   ]
  },
  {
   "cell_type": "code",
   "execution_count": 56,
   "metadata": {},
   "outputs": [
    {
     "name": "stdout",
     "output_type": "stream",
     "text": [
      "                                OLS Regression Results                                \n",
      "======================================================================================\n",
      "Dep. Variable:     Q(\"TotCases_per_100k_pop\")   R-squared:                       0.221\n",
      "Model:                                    OLS   Adj. R-squared:                  0.215\n",
      "Method:                         Least Squares   F-statistic:                     35.69\n",
      "Date:                        Wed, 17 Mar 2021   Prob (F-statistic):           2.21e-08\n",
      "Time:                                23:31:33   Log-Likelihood:                -1129.2\n",
      "No. Observations:                         128   AIC:                             2262.\n",
      "Df Residuals:                             126   BIC:                             2268.\n",
      "Df Model:                                   1                                         \n",
      "Covariance Type:                    nonrobust                                         \n",
      "=======================================================================================\n",
      "                          coef    std err          t      P>|t|      [0.025      0.975]\n",
      "---------------------------------------------------------------------------------------\n",
      "Intercept             488.3270    218.613      2.234      0.027      55.698     920.956\n",
      "Q(\"GDP per Capita\")     0.2104      0.035      5.974      0.000       0.141       0.280\n",
      "==============================================================================\n",
      "Omnibus:                       62.112   Durbin-Watson:                   1.482\n",
      "Prob(Omnibus):                  0.000   Jarque-Bera (JB):              242.120\n",
      "Skew:                           1.739   Prob(JB):                     2.66e-53\n",
      "Kurtosis:                       8.771   Cond. No.                     9.28e+03\n",
      "==============================================================================\n",
      "\n",
      "Warnings:\n",
      "[1] Standard Errors assume that the covariance matrix of the errors is correctly specified.\n",
      "[2] The condition number is large, 9.28e+03. This might indicate that there are\n",
      "strong multicollinearity or other numerical problems.\n"
     ]
    }
   ],
   "source": [
    "outcome_6, predictors_6 = patsy.dmatrices('Q(\"TotCases_per_100k_pop\") ~ Q(\"GDP per Capita\")', combine_developing)\n",
    "mod_6 = sm.OLS(outcome_6, predictors_6)\n",
    "res_6 = mod_6.fit()\n",
    "print(res_6.summary())"
   ]
  },
  {
   "cell_type": "markdown",
   "metadata": {},
   "source": [
    "Now we are focusing on the countries with less than 16,301 GDP Per Capita. We then plotted GDP per capita against total cases per 100k population and made a linear model using OLS. Since the R^2 is about 0.221, this is no sufficient evidence to support that the correlation between GDP Per Capita and Total Cases Per 100k People for developing countries. "
   ]
  },
  {
   "cell_type": "code",
   "execution_count": 57,
   "metadata": {},
   "outputs": [
    {
     "data": {
      "image/png": "[encoded data removed]",
      "text/plain": [
       "<Figure size 360x360 with 1 Axes>"
      ]
     },
     "metadata": {
      "needs_background": "light"
     },
     "output_type": "display_data"
    }
   ],
   "source": [
    "sns.lmplot(x='GDP per Capita', y='TotCases_per_100k_pop', data=combine_developed, fit_reg=True);"
   ]
  },
  {
   "cell_type": "code",
   "execution_count": 58,
   "metadata": {},
   "outputs": [
    {
     "name": "stdout",
     "output_type": "stream",
     "text": [
      "                                OLS Regression Results                                \n",
      "======================================================================================\n",
      "Dep. Variable:     Q(\"TotCases_per_100k_pop\")   R-squared:                       0.004\n",
      "Model:                                    OLS   Adj. R-squared:                 -0.019\n",
      "Method:                         Least Squares   F-statistic:                    0.1659\n",
      "Date:                        Wed, 17 Mar 2021   Prob (F-statistic):              0.686\n",
      "Time:                                23:31:34   Log-Likelihood:                -432.06\n",
      "No. Observations:                          46   AIC:                             868.1\n",
      "Df Residuals:                              44   BIC:                             871.8\n",
      "Df Model:                                   1                                         \n",
      "Covariance Type:                    nonrobust                                         \n",
      "=======================================================================================\n",
      "                          coef    std err          t      P>|t|      [0.025      0.975]\n",
      "---------------------------------------------------------------------------------------\n",
      "Intercept            3715.8449   1014.967      3.661      0.001    1670.314    5761.376\n",
      "Q(\"GDP per Capita\")     0.0093      0.023      0.407      0.686      -0.037       0.055\n",
      "==============================================================================\n",
      "Omnibus:                        5.889   Durbin-Watson:                   1.639\n",
      "Prob(Omnibus):                  0.053   Jarque-Bera (JB):                2.283\n",
      "Skew:                           0.156   Prob(JB):                        0.319\n",
      "Kurtosis:                       1.954   Cond. No.                     1.03e+05\n",
      "==============================================================================\n",
      "\n",
      "Warnings:\n",
      "[1] Standard Errors assume that the covariance matrix of the errors is correctly specified.\n",
      "[2] The condition number is large, 1.03e+05. This might indicate that there are\n",
      "strong multicollinearity or other numerical problems.\n"
     ]
    }
   ],
   "source": [
    "outcome, predictors = patsy.dmatrices('Q(\"TotCases_per_100k_pop\") ~ Q(\"GDP per Capita\")', combine_developed)\n",
    "mod = sm.OLS(outcome, predictors)\n",
    "res = mod.fit()\n",
    "print(res.summary())"
   ]
  },
  {
   "cell_type": "markdown",
   "metadata": {},
   "source": [
    "Now we are focusing on the countries with more than 16,301 GDP Per Capita. We then plotted GDP per capita against total cases per 100k population and made a linear model using OLS. Since the R^2 is about 0.004, this is no sufficient evidence to support that the correlation between GDP Per Capita and Total Cases Per 100k People for developed countries. "
   ]
  },
  {
   "cell_type": "markdown",
   "metadata": {},
   "source": [
    "## Comparing with Death per 100k Population"
   ]
  },
  {
   "cell_type": "code",
   "execution_count": 59,
   "metadata": {},
   "outputs": [
    {
     "data": {
      "text/plain": [
       "array([[<matplotlib.axes._subplots.AxesSubplot object at 0x1c2802d8d0>]],\n",
       "      dtype=object)"
      ]
     },
     "execution_count": 59,
     "metadata": {},
     "output_type": "execute_result"
    },
    {
     "data": {
      "image/png": "[encoded data removed]",
      "text/plain": [
       "<Figure size 432x288 with 1 Axes>"
      ]
     },
     "metadata": {
      "needs_background": "light"
     },
     "output_type": "display_data"
    }
   ],
   "source": [
    "combine.hist(column = 'Deaths_per_100k_pop', bins = 10)"
   ]
  },
  {
   "cell_type": "markdown",
   "metadata": {},
   "source": [
    "We then plotted a histogram of the death per 1 million population.\n",
    "The distribution for the variables doesn't seem to fit any of the common distributions, but the data was \n",
    "highly skewed to the right.\n",
    "We observed that for most countries, there is less than 500 deaths per 1 million peopple."
   ]
  },
  {
   "cell_type": "code",
   "execution_count": 60,
   "metadata": {},
   "outputs": [
    {
     "data": {
      "text/plain": [
       "array([[<matplotlib.axes._subplots.AxesSubplot object at 0x1c280d8f50>]],\n",
       "      dtype=object)"
      ]
     },
     "execution_count": 60,
     "metadata": {},
     "output_type": "execute_result"
    },
    {
     "data": {
      "image/png": "[encoded data removed]",
      "text/plain": [
       "<Figure size 432x288 with 1 Axes>"
      ]
     },
     "metadata": {
      "needs_background": "light"
     },
     "output_type": "display_data"
    }
   ],
   "source": [
    "combine_developing.hist(column = 'Deaths_per_100k_pop', bins = 10)"
   ]
  },
  {
   "cell_type": "markdown",
   "metadata": {},
   "source": [
    "Again, we wanted to see if there are distribution differences between developing and developed countries.\n",
    "We plotted a histogram of the deaths per 100k population for developing countries.\n",
    "The data, again, doesn't fit any common distributions and is skewed to the right.\n",
    "We observed that again, most developing countries have a low number of death per 100k people (<200)"
   ]
  },
  {
   "cell_type": "code",
   "execution_count": 61,
   "metadata": {},
   "outputs": [
    {
     "data": {
      "text/plain": [
       "array([[<matplotlib.axes._subplots.AxesSubplot object at 0x1c280f0d50>]],\n",
       "      dtype=object)"
      ]
     },
     "execution_count": 61,
     "metadata": {},
     "output_type": "execute_result"
    },
    {
     "data": {
      "image/png": "[encoded data removed]",
      "text/plain": [
       "<Figure size 432x288 with 1 Axes>"
      ]
     },
     "metadata": {
      "needs_background": "light"
     },
     "output_type": "display_data"
    }
   ],
   "source": [
    "combine_developed.hist(column = 'Deaths_per_100k_pop', bins = 10)"
   ]
  },
  {
   "cell_type": "markdown",
   "metadata": {},
   "source": [
    "We then plotted a histogram of the deaths per 100k population for developed countries.\n",
    "The data, again, doesn't fit any common distributions, though one can argue that is it nearing a uniform distribution. However, the sample size is too low to say so. The data is skewed to the right.\n",
    "We observed that developed countries' deaths per 100k population was much more varied than previous variables, but still favoring the low end of <500 cases per 100k population."
   ]
  },
  {
   "cell_type": "code",
   "execution_count": 62,
   "metadata": {},
   "outputs": [
    {
     "data": {
      "image/png": "[encoded data removed]",
      "text/plain": [
       "<Figure size 360x360 with 1 Axes>"
      ]
     },
     "metadata": {
      "needs_background": "light"
     },
     "output_type": "display_data"
    }
   ],
   "source": [
    "sns.lmplot(x='GDP per Capita', y='Deaths_per_100k_pop', data=combine, fit_reg=True);"
   ]
  },
  {
   "cell_type": "code",
   "execution_count": 63,
   "metadata": {},
   "outputs": [
    {
     "name": "stdout",
     "output_type": "stream",
     "text": [
      "                               OLS Regression Results                               \n",
      "====================================================================================\n",
      "Dep. Variable:     Q(\"Deaths_per_100k_pop\")   R-squared:                       0.119\n",
      "Model:                                  OLS   Adj. R-squared:                  0.114\n",
      "Method:                       Least Squares   F-statistic:                     23.13\n",
      "Date:                      Wed, 17 Mar 2021   Prob (F-statistic):           3.31e-06\n",
      "Time:                              23:31:36   Log-Likelihood:                -913.26\n",
      "No. Observations:                       173   AIC:                             1831.\n",
      "Df Residuals:                           171   BIC:                             1837.\n",
      "Df Model:                                 1                                         \n",
      "Covariance Type:                  nonrobust                                         \n",
      "=======================================================================================\n",
      "                          coef    std err          t      P>|t|      [0.025      0.975]\n",
      "---------------------------------------------------------------------------------------\n",
      "Intercept              27.6661      4.509      6.135      0.000      18.765      36.567\n",
      "Q(\"GDP per Capita\")     0.0009      0.000      4.809      0.000       0.001       0.001\n",
      "==============================================================================\n",
      "Omnibus:                       28.087   Durbin-Watson:                   1.416\n",
      "Prob(Omnibus):                  0.000   Jarque-Bera (JB):               36.517\n",
      "Skew:                           1.106   Prob(JB):                     1.18e-08\n",
      "Kurtosis:                       3.417   Cond. No.                     2.90e+04\n",
      "==============================================================================\n",
      "\n",
      "Warnings:\n",
      "[1] Standard Errors assume that the covariance matrix of the errors is correctly specified.\n",
      "[2] The condition number is large, 2.9e+04. This might indicate that there are\n",
      "strong multicollinearity or other numerical problems.\n"
     ]
    }
   ],
   "source": [
    "outcome_5, predictors_5 = patsy.dmatrices('Q(\"Deaths_per_100k_pop\") ~ Q(\"GDP per Capita\")', combine)\n",
    "mod_5 = sm.OLS(outcome_5, predictors_5)\n",
    "res_5 = mod_5.fit()\n",
    "print(res_5.summary())"
   ]
  },
  {
   "cell_type": "markdown",
   "metadata": {},
   "source": [
    "We plotted GDP per capita against the total deaths per 100k population and made a linear model using OLS. Since the R^2 is about 0.119, there is no sufficient evidence to support that the correlation between GDP Per Capita and Total Deaths Per 100k People. This is most likely because most countries have GDP Per Capita lower than 16301, so this graph is not normally distributed."
   ]
  },
  {
   "cell_type": "code",
   "execution_count": 64,
   "metadata": {},
   "outputs": [
    {
     "data": {
      "image/png": "[encoded data removed]",
      "text/plain": [
       "<Figure size 360x360 with 1 Axes>"
      ]
     },
     "metadata": {
      "needs_background": "light"
     },
     "output_type": "display_data"
    }
   ],
   "source": [
    "sns.lmplot(x='GDP per Capita', y='Deaths_per_100k_pop', data=combine_developing, fit_reg=True);"
   ]
  },
  {
   "cell_type": "code",
   "execution_count": 65,
   "metadata": {},
   "outputs": [
    {
     "name": "stdout",
     "output_type": "stream",
     "text": [
      "                               OLS Regression Results                               \n",
      "====================================================================================\n",
      "Dep. Variable:     Q(\"Deaths_per_100k_pop\")   R-squared:                       0.205\n",
      "Model:                                  OLS   Adj. R-squared:                  0.199\n",
      "Method:                       Least Squares   F-statistic:                     32.48\n",
      "Date:                      Wed, 17 Mar 2021   Prob (F-statistic):           8.09e-08\n",
      "Time:                              23:31:37   Log-Likelihood:                -644.40\n",
      "No. Observations:                       128   AIC:                             1293.\n",
      "Df Residuals:                           126   BIC:                             1298.\n",
      "Df Model:                                 1                                         \n",
      "Covariance Type:                  nonrobust                                         \n",
      "=======================================================================================\n",
      "                          coef    std err          t      P>|t|      [0.025      0.975]\n",
      "---------------------------------------------------------------------------------------\n",
      "Intercept               9.2294      4.952      1.864      0.065      -0.570      19.029\n",
      "Q(\"GDP per Capita\")     0.0045      0.001      5.699      0.000       0.003       0.006\n",
      "==============================================================================\n",
      "Omnibus:                       20.029   Durbin-Watson:                   1.473\n",
      "Prob(Omnibus):                  0.000   Jarque-Bera (JB):               23.945\n",
      "Skew:                           0.968   Prob(JB):                     6.32e-06\n",
      "Kurtosis:                       3.862   Cond. No.                     9.28e+03\n",
      "==============================================================================\n",
      "\n",
      "Warnings:\n",
      "[1] Standard Errors assume that the covariance matrix of the errors is correctly specified.\n",
      "[2] The condition number is large, 9.28e+03. This might indicate that there are\n",
      "strong multicollinearity or other numerical problems.\n"
     ]
    }
   ],
   "source": [
    "outcome, predictors = patsy.dmatrices('Q(\"Deaths_per_100k_pop\") ~ Q(\"GDP per Capita\")', combine_developing)\n",
    "mod = sm.OLS(outcome, predictors)\n",
    "res = mod.fit()\n",
    "print(res.summary())"
   ]
  },
  {
   "cell_type": "markdown",
   "metadata": {},
   "source": [
    "Now we are focusing on the countries with less than 16301 GDP Per Capita. We plotted GDP per capita against the total deaths per 100k population and made a linear model using OLS. Since the R^2 is about 0.205, there is still no sufficient evidence to support that the correlation between GDP Per Capita and Total Deaths Per 100k People for developing countries."
   ]
  },
  {
   "cell_type": "code",
   "execution_count": 66,
   "metadata": {},
   "outputs": [
    {
     "data": {
      "image/png": "[encoded data removed]",
      "text/plain": [
       "<Figure size 360x360 with 1 Axes>"
      ]
     },
     "metadata": {
      "needs_background": "light"
     },
     "output_type": "display_data"
    }
   ],
   "source": [
    "sns.lmplot(x='GDP per Capita', y='Deaths_per_100k_pop', data=combine_developed, fit_reg=True);"
   ]
  },
  {
   "cell_type": "code",
   "execution_count": 67,
   "metadata": {},
   "outputs": [
    {
     "name": "stdout",
     "output_type": "stream",
     "text": [
      "                               OLS Regression Results                               \n",
      "====================================================================================\n",
      "Dep. Variable:     Q(\"Deaths_per_100k_pop\")   R-squared:                       0.000\n",
      "Model:                                  OLS   Adj. R-squared:                 -0.023\n",
      "Method:                       Least Squares   F-statistic:                 0.0004727\n",
      "Date:                      Wed, 17 Mar 2021   Prob (F-statistic):              0.983\n",
      "Time:                              23:31:39   Log-Likelihood:                -248.87\n",
      "No. Observations:                        45   AIC:                             501.7\n",
      "Df Residuals:                            43   BIC:                             505.4\n",
      "Df Model:                                 1                                         \n",
      "Covariance Type:                  nonrobust                                         \n",
      "=======================================================================================\n",
      "                          coef    std err          t      P>|t|      [0.025      0.975]\n",
      "---------------------------------------------------------------------------------------\n",
      "Intercept              70.3085     21.390      3.287      0.002      27.171     113.446\n",
      "Q(\"GDP per Capita\") -1.044e-05      0.000     -0.022      0.983      -0.001       0.001\n",
      "==============================================================================\n",
      "Omnibus:                        5.306   Durbin-Watson:                   1.394\n",
      "Prob(Omnibus):                  0.070   Jarque-Bera (JB):                3.777\n",
      "Skew:                           0.562   Prob(JB):                        0.151\n",
      "Kurtosis:                       2.133   Cond. No.                     1.02e+05\n",
      "==============================================================================\n",
      "\n",
      "Warnings:\n",
      "[1] Standard Errors assume that the covariance matrix of the errors is correctly specified.\n",
      "[2] The condition number is large, 1.02e+05. This might indicate that there are\n",
      "strong multicollinearity or other numerical problems.\n"
     ]
    }
   ],
   "source": [
    "outcome8, predictors8 = patsy.dmatrices('Q(\"Deaths_per_100k_pop\") ~ Q(\"GDP per Capita\")', combine_developed)\n",
    "mod = sm.OLS(outcome8, predictors8)\n",
    "res = mod.fit()\n",
    "print(res.summary())"
   ]
  },
  {
   "cell_type": "markdown",
   "metadata": {},
   "source": [
    "Now we are focusing on the countries with less than 16301 GDP Per Capita. We plotted GDP per capita against the total deaths per 100k population and made a linear model using OLS. Since the R^2 is about 0.205, there is still no sufficient evidence to support that the correlation between GDP Per Capita and Total Deaths Per 100k People for developing countries."
   ]
  },
  {
   "cell_type": "markdown",
   "metadata": {},
   "source": [
    "# Outlier Removal"
   ]
  },
  {
   "cell_type": "code",
   "execution_count": 68,
   "metadata": {},
   "outputs": [
    {
     "data": {
      "text/html": [
       "<div>\n",
       "<style scoped>\n",
       "    .dataframe tbody tr th:only-of-type {\n",
       "        vertical-align: middle;\n",
       "    }\n",
       "\n",
       "    .dataframe tbody tr th {\n",
       "        vertical-align: top;\n",
       "    }\n",
       "\n",
       "    .dataframe thead th {\n",
       "        text-align: right;\n",
       "    }\n",
       "</style>\n",
       "<table border=\"1\" class=\"dataframe\">\n",
       "  <thead>\n",
       "    <tr style=\"text-align: right;\">\n",
       "      <th></th>\n",
       "      <th>Country</th>\n",
       "      <th>Total Cases</th>\n",
       "      <th>Total Deaths</th>\n",
       "      <th>Total Recovered</th>\n",
       "      <th>TotCases/ 1M pop</th>\n",
       "      <th>Deaths/1M pop</th>\n",
       "      <th>Population</th>\n",
       "      <th>Units</th>\n",
       "      <th>Scale</th>\n",
       "      <th>2020 GDP</th>\n",
       "      <th>Recovery Percentage</th>\n",
       "      <th>Death Percentage</th>\n",
       "      <th>GDP per Capita</th>\n",
       "      <th>TotCases_per_100k_pop</th>\n",
       "      <th>Deaths_per_100k_pop</th>\n",
       "      <th>log_TotCases_per_1M_pop</th>\n",
       "      <th>sqrt_TotCases_per_1M_pop</th>\n",
       "    </tr>\n",
       "  </thead>\n",
       "  <tbody>\n",
       "    <tr>\n",
       "      <td>152</td>\n",
       "      <td>San Marino</td>\n",
       "      <td>3278</td>\n",
       "      <td>72.0</td>\n",
       "      <td>2956.0</td>\n",
       "      <td>96483.0</td>\n",
       "      <td>2119.0</td>\n",
       "      <td>33975.0</td>\n",
       "      <td>U.S. dollars</td>\n",
       "      <td>Billions</td>\n",
       "      <td>1.41</td>\n",
       "      <td>0.901769</td>\n",
       "      <td>0.021965</td>\n",
       "      <td>41501.103753</td>\n",
       "      <td>9648.3</td>\n",
       "      <td>211.9</td>\n",
       "      <td>11.477122</td>\n",
       "      <td>310.617128</td>\n",
       "    </tr>\n",
       "  </tbody>\n",
       "</table>\n",
       "</div>"
      ],
      "text/plain": [
       "        Country  Total Cases  Total Deaths  Total Recovered  TotCases/ 1M pop  \\\n",
       "152  San Marino         3278          72.0           2956.0           96483.0   \n",
       "\n",
       "     Deaths/1M pop  Population         Units     Scale  2020 GDP  \\\n",
       "152         2119.0     33975.0  U.S. dollars  Billions      1.41   \n",
       "\n",
       "     Recovery Percentage  Death Percentage  GDP per Capita  \\\n",
       "152             0.901769          0.021965    41501.103753   \n",
       "\n",
       "     TotCases_per_100k_pop  Deaths_per_100k_pop  log_TotCases_per_1M_pop  \\\n",
       "152                 9648.3                211.9                11.477122   \n",
       "\n",
       "     sqrt_TotCases_per_1M_pop  \n",
       "152                310.617128  "
      ]
     },
     "execution_count": 68,
     "metadata": {},
     "output_type": "execute_result"
    }
   ],
   "source": [
    "combine_developed_outlier = combine_developed[combine_developed['Deaths_per_100k_pop'] > 200]\n",
    "combine_developed_outlier"
   ]
  },
  {
   "cell_type": "markdown",
   "metadata": {},
   "source": [
    "San Marino had the significant high death rate among other developed countries, and it may cause the correlation and R^2 to be inaccurate between GDP Per Capita and Total Death Rate Per 100k People."
   ]
  },
  {
   "cell_type": "code",
   "execution_count": 69,
   "metadata": {
    "scrolled": true
   },
   "outputs": [
    {
     "name": "stdout",
     "output_type": "stream",
     "text": [
      "                               OLS Regression Results                               \n",
      "====================================================================================\n",
      "Dep. Variable:     Q(\"Deaths_per_100k_pop\")   R-squared:                       0.000\n",
      "Model:                                  OLS   Adj. R-squared:                 -0.023\n",
      "Method:                       Least Squares   F-statistic:                 0.0004727\n",
      "Date:                      Wed, 17 Mar 2021   Prob (F-statistic):              0.983\n",
      "Time:                              23:31:39   Log-Likelihood:                -248.87\n",
      "No. Observations:                        45   AIC:                             501.7\n",
      "Df Residuals:                            43   BIC:                             505.4\n",
      "Df Model:                                 1                                         \n",
      "Covariance Type:                  nonrobust                                         \n",
      "=======================================================================================\n",
      "                          coef    std err          t      P>|t|      [0.025      0.975]\n",
      "---------------------------------------------------------------------------------------\n",
      "Intercept              70.3085     21.390      3.287      0.002      27.171     113.446\n",
      "Q(\"GDP per Capita\") -1.044e-05      0.000     -0.022      0.983      -0.001       0.001\n",
      "==============================================================================\n",
      "Omnibus:                        5.306   Durbin-Watson:                   1.394\n",
      "Prob(Omnibus):                  0.070   Jarque-Bera (JB):                3.777\n",
      "Skew:                           0.562   Prob(JB):                        0.151\n",
      "Kurtosis:                       2.133   Cond. No.                     1.02e+05\n",
      "==============================================================================\n",
      "\n",
      "Warnings:\n",
      "[1] Standard Errors assume that the covariance matrix of the errors is correctly specified.\n",
      "[2] The condition number is large, 1.02e+05. This might indicate that there are\n",
      "strong multicollinearity or other numerical problems.\n"
     ]
    }
   ],
   "source": [
    "outcome, predictors = patsy.dmatrices('Q(\"Deaths_per_100k_pop\") ~ Q(\"GDP per Capita\")', combine_developed)\n",
    "mod = sm.OLS(outcome, predictors)\n",
    "res = mod.fit()\n",
    "print(res.summary())"
   ]
  },
  {
   "cell_type": "markdown",
   "metadata": {},
   "source": [
    "Now we are focusing on the countries with more than 20,000 GDP Per Capita.We then plotted GDP per capita against the total deaths per 100k population and made a linear model using OLS. Since the R^2 is about 0.205, this is no sufficient evidence to support that the correlation between GDP Per Capita and Total Deaths Per 100k People for developed countries. "
   ]
  },
  {
   "cell_type": "markdown",
   "metadata": {},
   "source": [
    "# Ethics & Privacy"
   ]
  },
  {
   "cell_type": "markdown",
   "metadata": {},
   "source": [
    "In this project, we plan to fetch our data from official organizations such as the IMF(International Monetary Fund), authorized global database(worldmeters), or some country’s government databases. In theory, we do not expect any bias and privacy issues to rise from the data. However, there are several potential problems that are extremely likely to exist. Many countries' governments may have chosen to intentionally provide modified infection rates, death rates, and other information for political and economic purposes. There are also some poorer countries that cannot afford to have wide-spread covid tests or medical supplies for their people. These issues may cause the data for our project to be inaccurate. To deal with the issue, we would try to have separated analysis on data of the advanced countries and the developing ones. By doing so, we can evaluate each country with countries in similar conditions, which would also allow our analysis to be more intuitive visibly. Therefore, despite the information quality varies from country to country, we can create reasonable analysis surrounding our research question with the limited data we obtained."
   ]
  },
  {
   "cell_type": "markdown",
   "metadata": {},
   "source": [
    "# Conclusion & Discussion"
   ]
  },
  {
   "cell_type": "markdown",
   "metadata": {},
   "source": [
    "<b>Conclusion</b>:\n",
    "\n",
    "Our initial hypothesis that GDP of a country will have correlations between death/infected/recovered rate from COVID-19 is not supported by the use of linear regressions and measuring of central tendency. We even splited the countries into developing and developed based on the 75th percentile GDP per capita(16,301 USD), and removed any possible outliers existed in both datasets. \n",
    "\n",
    "- For death rate, both developing and developed countries have the average of 1.73% death percentage. Futhermore, we attempted the linear regression method by taking both developing and developed countries' GDP as the independent variable and the deaths_per_100k as dependent variable, but their R^2 values suggest that there is not sufficient evidence to prove the negative correlation between GDP per capita and the death rates. This result contradicts our initial assumption that the developed countries with the advanced medical treatments will have much lower death percentage than the devloping countries. \n",
    "\n",
    "\n",
    "- For infection rate(total cases per 100k population), the developing countries have 1,459 cases per 100k population and developed countries have 4,110 cases per 100k population. This result surprises us with the fact that developed countries have even higher infection rate than the developing countries. We wonder whether the COVID-19 data provided by those developing countries is reliable and transparent, or the fact that the people living in developing countries have stronger public awareness to danger of COVID-19 than those living in developed countries. Futhermore, we attempted the linear regression method by taking both developing and developed countries' GDP as the independent variable and the infection rate as dependent variable, but their R^2 values suggest that there is not sufficient evidence to prove the negative correlation between GDP per capita and the infection rates. This result contradicts our initial assumption that the developed countries will have much lower infection rate than the devloping countries. \n",
    "\n",
    "\n",
    "- For recovery rate, the developing countries have average of 83% recovery rate and developed countries have the average of 81% recovery percentage. Since both of them have the almost equivalent average recovery rate, the recovery rate might not be depended on the factor of GDP(the poverty rate). Futhermore, we attempted the linear regression method by taking both developing and developed countries' GDP as the independent variable and the recovery percentage as dependent variable, but their R^2 values suggest that there is not sufficient evidence to prove the positive correlation between GDP per capita and the recovery rates. This result contradicts our initial assumption that the developed countries with the advanced medical treatments will have higher recovery rate than the devloping countries. \n",
    "\n",
    "\n",
    "\n",
    "<b>Discussion</b>:\n",
    "  \n",
    "- Limitation in our analysis are based on the GDP from IMF(International Monetary Fund) and COVID-19 data from worldometers official website. Our final result shows that for each country, there is <b>NO</b> correlation between GDP Per Capita(poverty rate) and death/infected/recovered rate from COVID-19. We even discovered that developed countries have higher infection rate than the developing countries. Thus, we question about two possible scenarios:\n",
    "\n",
    "     1. Are the COVID-19 data provided by those developing countries reliable and transparent? \n",
    "     2. Is it possible that the people living in developing countries have stronger public awareness toward the danger of \n",
    "     COVID-19 than those living in developed countries?"
   ]
  },
  {
   "cell_type": "markdown",
   "metadata": {},
   "source": [
    "# Team Contributions"
   ]
  },
  {
   "cell_type": "markdown",
   "metadata": {},
   "source": [
    "We all worked collectively via zoom and everyone contributes to every parts of the project.\n",
    "\n",
    "Li-An Wu: Proposal, Data Cleaning, Hypothesis, Finding dataset, EDA, Ethics and Privacy, Conclusion and Discussion\n",
    "\n",
    "Tony Lin: Proposal, Data Cleaning, Hypothesis, Finding dataset, EDA, Ethics and Privacy, Conclusion and Discussion\n",
    "\n",
    "Ray Hunag: Proposal, Data Cleaning, Hypothesis, Finding dataset, EDA, Ethics and Privacy, Conclusion and Discussion\n",
    "\n",
    "Steven Kan: Proposal, Data Cleaning, Hypothesis, Finding dataset, EDA, Ethics and Privacy, Conclusion and Discussion"
   ]
  }
 ],
 "metadata": {
  "kernelspec": {
   "display_name": "Python 3",
   "language": "python",
   "name": "python3"
  },
  "language_info": {
   "codemirror_mode": {
    "name": "ipython",
    "version": 3
   },
   "file_extension": ".py",
   "mimetype": "text/x-python",
   "name": "python",
   "nbconvert_exporter": "python",
   "pygments_lexer": "ipython3",
   "version": "3.7.4"
  }
 },
 "nbformat": 4,
 "nbformat_minor": 2
}
